{
  "nbformat": 4,
  "nbformat_minor": 0,
  "metadata": {
    "colab": {
      "name": "STUDY TIME - Iris_Assignment_new.ipynb",
      "version": "0.3.2",
      "provenance": [],
      "include_colab_link": true
    },
    "language_info": {
      "codemirror_mode": {
        "name": "ipython",
        "version": 3
      },
      "file_extension": ".py",
      "mimetype": "text/x-python",
      "name": "python",
      "nbconvert_exporter": "python",
      "pygments_lexer": "ipython3",
      "version": "3.6.8"
    },
    "kernelspec": {
      "display_name": "Python 3",
      "language": "python",
      "name": "python3"
    }
  },
  "cells": [
    {
      "cell_type": "markdown",
      "metadata": {
        "id": "view-in-github",
        "colab_type": "text"
      },
      "source": [
        "<a href=\"https://colab.research.google.com/github/sonudk/Source-Code-from-Tutorials/blob/master/Iris_Assignment_new.ipynb\" target=\"_parent\"><img src=\"https://colab.research.google.com/assets/colab-badge.svg\" alt=\"Open In Colab\"/></a>"
      ]
    },
    {
      "cell_type": "markdown",
      "metadata": {
        "id": "BL-DPVK5nUHe",
        "colab_type": "text"
      },
      "source": [
        "### Import Iris Dataset"
      ]
    },
    {
      "cell_type": "code",
      "metadata": {
        "id": "Spq9OSeinUHg",
        "colab_type": "code",
        "colab": {}
      },
      "source": [
        "import sklearn\n",
        "from sklearn.datasets import load_iris\n",
        "import numpy as np\n",
        "import keras\n",
        "np.random.seed(10)\n",
        "\n",
        "iris = load_iris()"
      ],
      "execution_count": 0,
      "outputs": []
    },
    {
      "cell_type": "markdown",
      "metadata": {
        "id": "eOFNuMJHnUHk",
        "colab_type": "text"
      },
      "source": [
        "### Data Exploration"
      ]
    },
    {
      "cell_type": "code",
      "metadata": {
        "id": "JB6ovRjOnUHk",
        "colab_type": "code",
        "outputId": "48acd840-9b0c-4edf-e82a-b99c3a402378",
        "colab": {
          "base_uri": "https://localhost:8080/",
          "height": 34
        }
      },
      "source": [
        "## Print type of iris\n",
        "print(type(iris))"
      ],
      "execution_count": 97,
      "outputs": [
        {
          "output_type": "stream",
          "text": [
            "<class 'sklearn.utils.Bunch'>\n"
          ],
          "name": "stdout"
        }
      ]
    },
    {
      "cell_type": "code",
      "metadata": {
        "id": "ZNCmlg-AnUHn",
        "colab_type": "code",
        "colab": {
          "base_uri": "https://localhost:8080/",
          "height": 34
        },
        "outputId": "9ef6a374-5cf9-4846-aceb-e868d3a10adf"
      },
      "source": [
        "## Print parent classes of this type\n",
        "## Use the attribute __bases__ of the type that you have found\n",
        "print(sklearn.utils.Bunch.__bases__)"
      ],
      "execution_count": 98,
      "outputs": [
        {
          "output_type": "stream",
          "text": [
            "(<class 'dict'>,)\n"
          ],
          "name": "stdout"
        }
      ]
    },
    {
      "cell_type": "markdown",
      "metadata": {
        "id": "ymJ9Ze1KnUHp",
        "colab_type": "text"
      },
      "source": [
        "So, you must have found that iris is a dict object"
      ]
    },
    {
      "cell_type": "code",
      "metadata": {
        "id": "7JHhoXFRnUHp",
        "colab_type": "code",
        "outputId": "52753bad-35a2-45dd-f8e5-cfa2b7f51b8c",
        "colab": {
          "base_uri": "https://localhost:8080/",
          "height": 34
        }
      },
      "source": [
        "## Print the keys present in iris\n",
        "print(iris.keys())"
      ],
      "execution_count": 99,
      "outputs": [
        {
          "output_type": "stream",
          "text": [
            "dict_keys(['data', 'target', 'target_names', 'DESCR', 'feature_names', 'filename'])\n"
          ],
          "name": "stdout"
        }
      ]
    },
    {
      "cell_type": "code",
      "metadata": {
        "id": "B3tfKedinUHr",
        "colab_type": "code",
        "colab": {
          "base_uri": "https://localhost:8080/",
          "height": 2652
        },
        "outputId": "6fa414b2-464f-46fc-a7cf-5a1946e18aea"
      },
      "source": [
        "## Create X and Y variables. X is the input features, Y is the output labels\n",
        "X=iris.data\n",
        "Y=iris.target\n",
        "print(X)\n",
        "print(Y)"
      ],
      "execution_count": 100,
      "outputs": [
        {
          "output_type": "stream",
          "text": [
            "[[5.1 3.5 1.4 0.2]\n",
            " [4.9 3.  1.4 0.2]\n",
            " [4.7 3.2 1.3 0.2]\n",
            " [4.6 3.1 1.5 0.2]\n",
            " [5.  3.6 1.4 0.2]\n",
            " [5.4 3.9 1.7 0.4]\n",
            " [4.6 3.4 1.4 0.3]\n",
            " [5.  3.4 1.5 0.2]\n",
            " [4.4 2.9 1.4 0.2]\n",
            " [4.9 3.1 1.5 0.1]\n",
            " [5.4 3.7 1.5 0.2]\n",
            " [4.8 3.4 1.6 0.2]\n",
            " [4.8 3.  1.4 0.1]\n",
            " [4.3 3.  1.1 0.1]\n",
            " [5.8 4.  1.2 0.2]\n",
            " [5.7 4.4 1.5 0.4]\n",
            " [5.4 3.9 1.3 0.4]\n",
            " [5.1 3.5 1.4 0.3]\n",
            " [5.7 3.8 1.7 0.3]\n",
            " [5.1 3.8 1.5 0.3]\n",
            " [5.4 3.4 1.7 0.2]\n",
            " [5.1 3.7 1.5 0.4]\n",
            " [4.6 3.6 1.  0.2]\n",
            " [5.1 3.3 1.7 0.5]\n",
            " [4.8 3.4 1.9 0.2]\n",
            " [5.  3.  1.6 0.2]\n",
            " [5.  3.4 1.6 0.4]\n",
            " [5.2 3.5 1.5 0.2]\n",
            " [5.2 3.4 1.4 0.2]\n",
            " [4.7 3.2 1.6 0.2]\n",
            " [4.8 3.1 1.6 0.2]\n",
            " [5.4 3.4 1.5 0.4]\n",
            " [5.2 4.1 1.5 0.1]\n",
            " [5.5 4.2 1.4 0.2]\n",
            " [4.9 3.1 1.5 0.2]\n",
            " [5.  3.2 1.2 0.2]\n",
            " [5.5 3.5 1.3 0.2]\n",
            " [4.9 3.6 1.4 0.1]\n",
            " [4.4 3.  1.3 0.2]\n",
            " [5.1 3.4 1.5 0.2]\n",
            " [5.  3.5 1.3 0.3]\n",
            " [4.5 2.3 1.3 0.3]\n",
            " [4.4 3.2 1.3 0.2]\n",
            " [5.  3.5 1.6 0.6]\n",
            " [5.1 3.8 1.9 0.4]\n",
            " [4.8 3.  1.4 0.3]\n",
            " [5.1 3.8 1.6 0.2]\n",
            " [4.6 3.2 1.4 0.2]\n",
            " [5.3 3.7 1.5 0.2]\n",
            " [5.  3.3 1.4 0.2]\n",
            " [7.  3.2 4.7 1.4]\n",
            " [6.4 3.2 4.5 1.5]\n",
            " [6.9 3.1 4.9 1.5]\n",
            " [5.5 2.3 4.  1.3]\n",
            " [6.5 2.8 4.6 1.5]\n",
            " [5.7 2.8 4.5 1.3]\n",
            " [6.3 3.3 4.7 1.6]\n",
            " [4.9 2.4 3.3 1. ]\n",
            " [6.6 2.9 4.6 1.3]\n",
            " [5.2 2.7 3.9 1.4]\n",
            " [5.  2.  3.5 1. ]\n",
            " [5.9 3.  4.2 1.5]\n",
            " [6.  2.2 4.  1. ]\n",
            " [6.1 2.9 4.7 1.4]\n",
            " [5.6 2.9 3.6 1.3]\n",
            " [6.7 3.1 4.4 1.4]\n",
            " [5.6 3.  4.5 1.5]\n",
            " [5.8 2.7 4.1 1. ]\n",
            " [6.2 2.2 4.5 1.5]\n",
            " [5.6 2.5 3.9 1.1]\n",
            " [5.9 3.2 4.8 1.8]\n",
            " [6.1 2.8 4.  1.3]\n",
            " [6.3 2.5 4.9 1.5]\n",
            " [6.1 2.8 4.7 1.2]\n",
            " [6.4 2.9 4.3 1.3]\n",
            " [6.6 3.  4.4 1.4]\n",
            " [6.8 2.8 4.8 1.4]\n",
            " [6.7 3.  5.  1.7]\n",
            " [6.  2.9 4.5 1.5]\n",
            " [5.7 2.6 3.5 1. ]\n",
            " [5.5 2.4 3.8 1.1]\n",
            " [5.5 2.4 3.7 1. ]\n",
            " [5.8 2.7 3.9 1.2]\n",
            " [6.  2.7 5.1 1.6]\n",
            " [5.4 3.  4.5 1.5]\n",
            " [6.  3.4 4.5 1.6]\n",
            " [6.7 3.1 4.7 1.5]\n",
            " [6.3 2.3 4.4 1.3]\n",
            " [5.6 3.  4.1 1.3]\n",
            " [5.5 2.5 4.  1.3]\n",
            " [5.5 2.6 4.4 1.2]\n",
            " [6.1 3.  4.6 1.4]\n",
            " [5.8 2.6 4.  1.2]\n",
            " [5.  2.3 3.3 1. ]\n",
            " [5.6 2.7 4.2 1.3]\n",
            " [5.7 3.  4.2 1.2]\n",
            " [5.7 2.9 4.2 1.3]\n",
            " [6.2 2.9 4.3 1.3]\n",
            " [5.1 2.5 3.  1.1]\n",
            " [5.7 2.8 4.1 1.3]\n",
            " [6.3 3.3 6.  2.5]\n",
            " [5.8 2.7 5.1 1.9]\n",
            " [7.1 3.  5.9 2.1]\n",
            " [6.3 2.9 5.6 1.8]\n",
            " [6.5 3.  5.8 2.2]\n",
            " [7.6 3.  6.6 2.1]\n",
            " [4.9 2.5 4.5 1.7]\n",
            " [7.3 2.9 6.3 1.8]\n",
            " [6.7 2.5 5.8 1.8]\n",
            " [7.2 3.6 6.1 2.5]\n",
            " [6.5 3.2 5.1 2. ]\n",
            " [6.4 2.7 5.3 1.9]\n",
            " [6.8 3.  5.5 2.1]\n",
            " [5.7 2.5 5.  2. ]\n",
            " [5.8 2.8 5.1 2.4]\n",
            " [6.4 3.2 5.3 2.3]\n",
            " [6.5 3.  5.5 1.8]\n",
            " [7.7 3.8 6.7 2.2]\n",
            " [7.7 2.6 6.9 2.3]\n",
            " [6.  2.2 5.  1.5]\n",
            " [6.9 3.2 5.7 2.3]\n",
            " [5.6 2.8 4.9 2. ]\n",
            " [7.7 2.8 6.7 2. ]\n",
            " [6.3 2.7 4.9 1.8]\n",
            " [6.7 3.3 5.7 2.1]\n",
            " [7.2 3.2 6.  1.8]\n",
            " [6.2 2.8 4.8 1.8]\n",
            " [6.1 3.  4.9 1.8]\n",
            " [6.4 2.8 5.6 2.1]\n",
            " [7.2 3.  5.8 1.6]\n",
            " [7.4 2.8 6.1 1.9]\n",
            " [7.9 3.8 6.4 2. ]\n",
            " [6.4 2.8 5.6 2.2]\n",
            " [6.3 2.8 5.1 1.5]\n",
            " [6.1 2.6 5.6 1.4]\n",
            " [7.7 3.  6.1 2.3]\n",
            " [6.3 3.4 5.6 2.4]\n",
            " [6.4 3.1 5.5 1.8]\n",
            " [6.  3.  4.8 1.8]\n",
            " [6.9 3.1 5.4 2.1]\n",
            " [6.7 3.1 5.6 2.4]\n",
            " [6.9 3.1 5.1 2.3]\n",
            " [5.8 2.7 5.1 1.9]\n",
            " [6.8 3.2 5.9 2.3]\n",
            " [6.7 3.3 5.7 2.5]\n",
            " [6.7 3.  5.2 2.3]\n",
            " [6.3 2.5 5.  1.9]\n",
            " [6.5 3.  5.2 2. ]\n",
            " [6.2 3.4 5.4 2.3]\n",
            " [5.9 3.  5.1 1.8]]\n",
            "[0 0 0 0 0 0 0 0 0 0 0 0 0 0 0 0 0 0 0 0 0 0 0 0 0 0 0 0 0 0 0 0 0 0 0 0 0\n",
            " 0 0 0 0 0 0 0 0 0 0 0 0 0 1 1 1 1 1 1 1 1 1 1 1 1 1 1 1 1 1 1 1 1 1 1 1 1\n",
            " 1 1 1 1 1 1 1 1 1 1 1 1 1 1 1 1 1 1 1 1 1 1 1 1 1 1 2 2 2 2 2 2 2 2 2 2 2\n",
            " 2 2 2 2 2 2 2 2 2 2 2 2 2 2 2 2 2 2 2 2 2 2 2 2 2 2 2 2 2 2 2 2 2 2 2 2 2\n",
            " 2 2]\n"
          ],
          "name": "stdout"
        }
      ]
    },
    {
      "cell_type": "code",
      "metadata": {
        "id": "v0ToAhBsnUHu",
        "colab_type": "code",
        "outputId": "320ae057-308e-451e-e75a-b79f9e82ef47",
        "colab": {
          "base_uri": "https://localhost:8080/",
          "height": 34
        }
      },
      "source": [
        "## Track 5 random samples\n",
        "isamples = np.random.randint(len(Y), size = (5))\n",
        "print(isamples)"
      ],
      "execution_count": 101,
      "outputs": [
        {
          "output_type": "stream",
          "text": [
            "[  9 125  15  64 113]\n"
          ],
          "name": "stdout"
        }
      ]
    },
    {
      "cell_type": "code",
      "metadata": {
        "id": "tN0ccE29nUHz",
        "colab_type": "code",
        "outputId": "a76ea0a6-c14f-4e6f-bb20-fafc4e43d0c6",
        "colab": {
          "base_uri": "https://localhost:8080/",
          "height": 68
        }
      },
      "source": [
        "#Shape of Data\n",
        "print(iris.data.shape)\n",
        "#print shape of X and Y\n",
        "print(X.shape)\n",
        "print(Y.shape)"
      ],
      "execution_count": 102,
      "outputs": [
        {
          "output_type": "stream",
          "text": [
            "(150, 4)\n",
            "(150, 4)\n",
            "(150,)\n"
          ],
          "name": "stdout"
        }
      ]
    },
    {
      "cell_type": "markdown",
      "metadata": {
        "id": "dQ9RARWtnUH2",
        "colab_type": "text"
      },
      "source": [
        "### Preprocess Data"
      ]
    },
    {
      "cell_type": "markdown",
      "metadata": {
        "id": "HxvuM-bmnUH3",
        "colab_type": "text"
      },
      "source": [
        "#### Convert Labels(Y) to one-hot encoding "
      ]
    },
    {
      "cell_type": "code",
      "metadata": {
        "id": "ePzKbbXZnUH3",
        "colab_type": "code",
        "outputId": "a90f56cb-7dfd-4d55-a316-63eb453343e8",
        "colab": {
          "base_uri": "https://localhost:8080/",
          "height": 2652
        }
      },
      "source": [
        "### Convert Y to 1-hot encoding\n",
        "\n",
        "##Your Code Here\n",
        "Yp=np.zeros((150,3))\n",
        "for i in range(150):\n",
        "  Yp[i,Y[i]] = 1\n",
        "\n",
        "print(Yp)\n",
        "\n",
        "    \n",
        "# Look at converted Y for the random samples we are tracking\n",
        "  \n",
        "print(Yp[isamples],Y[isamples])"
      ],
      "execution_count": 103,
      "outputs": [
        {
          "output_type": "stream",
          "text": [
            "[[1. 0. 0.]\n",
            " [1. 0. 0.]\n",
            " [1. 0. 0.]\n",
            " [1. 0. 0.]\n",
            " [1. 0. 0.]\n",
            " [1. 0. 0.]\n",
            " [1. 0. 0.]\n",
            " [1. 0. 0.]\n",
            " [1. 0. 0.]\n",
            " [1. 0. 0.]\n",
            " [1. 0. 0.]\n",
            " [1. 0. 0.]\n",
            " [1. 0. 0.]\n",
            " [1. 0. 0.]\n",
            " [1. 0. 0.]\n",
            " [1. 0. 0.]\n",
            " [1. 0. 0.]\n",
            " [1. 0. 0.]\n",
            " [1. 0. 0.]\n",
            " [1. 0. 0.]\n",
            " [1. 0. 0.]\n",
            " [1. 0. 0.]\n",
            " [1. 0. 0.]\n",
            " [1. 0. 0.]\n",
            " [1. 0. 0.]\n",
            " [1. 0. 0.]\n",
            " [1. 0. 0.]\n",
            " [1. 0. 0.]\n",
            " [1. 0. 0.]\n",
            " [1. 0. 0.]\n",
            " [1. 0. 0.]\n",
            " [1. 0. 0.]\n",
            " [1. 0. 0.]\n",
            " [1. 0. 0.]\n",
            " [1. 0. 0.]\n",
            " [1. 0. 0.]\n",
            " [1. 0. 0.]\n",
            " [1. 0. 0.]\n",
            " [1. 0. 0.]\n",
            " [1. 0. 0.]\n",
            " [1. 0. 0.]\n",
            " [1. 0. 0.]\n",
            " [1. 0. 0.]\n",
            " [1. 0. 0.]\n",
            " [1. 0. 0.]\n",
            " [1. 0. 0.]\n",
            " [1. 0. 0.]\n",
            " [1. 0. 0.]\n",
            " [1. 0. 0.]\n",
            " [1. 0. 0.]\n",
            " [0. 1. 0.]\n",
            " [0. 1. 0.]\n",
            " [0. 1. 0.]\n",
            " [0. 1. 0.]\n",
            " [0. 1. 0.]\n",
            " [0. 1. 0.]\n",
            " [0. 1. 0.]\n",
            " [0. 1. 0.]\n",
            " [0. 1. 0.]\n",
            " [0. 1. 0.]\n",
            " [0. 1. 0.]\n",
            " [0. 1. 0.]\n",
            " [0. 1. 0.]\n",
            " [0. 1. 0.]\n",
            " [0. 1. 0.]\n",
            " [0. 1. 0.]\n",
            " [0. 1. 0.]\n",
            " [0. 1. 0.]\n",
            " [0. 1. 0.]\n",
            " [0. 1. 0.]\n",
            " [0. 1. 0.]\n",
            " [0. 1. 0.]\n",
            " [0. 1. 0.]\n",
            " [0. 1. 0.]\n",
            " [0. 1. 0.]\n",
            " [0. 1. 0.]\n",
            " [0. 1. 0.]\n",
            " [0. 1. 0.]\n",
            " [0. 1. 0.]\n",
            " [0. 1. 0.]\n",
            " [0. 1. 0.]\n",
            " [0. 1. 0.]\n",
            " [0. 1. 0.]\n",
            " [0. 1. 0.]\n",
            " [0. 1. 0.]\n",
            " [0. 1. 0.]\n",
            " [0. 1. 0.]\n",
            " [0. 1. 0.]\n",
            " [0. 1. 0.]\n",
            " [0. 1. 0.]\n",
            " [0. 1. 0.]\n",
            " [0. 1. 0.]\n",
            " [0. 1. 0.]\n",
            " [0. 1. 0.]\n",
            " [0. 1. 0.]\n",
            " [0. 1. 0.]\n",
            " [0. 1. 0.]\n",
            " [0. 1. 0.]\n",
            " [0. 1. 0.]\n",
            " [0. 1. 0.]\n",
            " [0. 0. 1.]\n",
            " [0. 0. 1.]\n",
            " [0. 0. 1.]\n",
            " [0. 0. 1.]\n",
            " [0. 0. 1.]\n",
            " [0. 0. 1.]\n",
            " [0. 0. 1.]\n",
            " [0. 0. 1.]\n",
            " [0. 0. 1.]\n",
            " [0. 0. 1.]\n",
            " [0. 0. 1.]\n",
            " [0. 0. 1.]\n",
            " [0. 0. 1.]\n",
            " [0. 0. 1.]\n",
            " [0. 0. 1.]\n",
            " [0. 0. 1.]\n",
            " [0. 0. 1.]\n",
            " [0. 0. 1.]\n",
            " [0. 0. 1.]\n",
            " [0. 0. 1.]\n",
            " [0. 0. 1.]\n",
            " [0. 0. 1.]\n",
            " [0. 0. 1.]\n",
            " [0. 0. 1.]\n",
            " [0. 0. 1.]\n",
            " [0. 0. 1.]\n",
            " [0. 0. 1.]\n",
            " [0. 0. 1.]\n",
            " [0. 0. 1.]\n",
            " [0. 0. 1.]\n",
            " [0. 0. 1.]\n",
            " [0. 0. 1.]\n",
            " [0. 0. 1.]\n",
            " [0. 0. 1.]\n",
            " [0. 0. 1.]\n",
            " [0. 0. 1.]\n",
            " [0. 0. 1.]\n",
            " [0. 0. 1.]\n",
            " [0. 0. 1.]\n",
            " [0. 0. 1.]\n",
            " [0. 0. 1.]\n",
            " [0. 0. 1.]\n",
            " [0. 0. 1.]\n",
            " [0. 0. 1.]\n",
            " [0. 0. 1.]\n",
            " [0. 0. 1.]\n",
            " [0. 0. 1.]\n",
            " [0. 0. 1.]\n",
            " [0. 0. 1.]\n",
            " [0. 0. 1.]]\n",
            "[[1. 0. 0.]\n",
            " [0. 0. 1.]\n",
            " [1. 0. 0.]\n",
            " [0. 1. 0.]\n",
            " [0. 0. 1.]] [0 2 0 1 2]\n"
          ],
          "name": "stdout"
        }
      ]
    },
    {
      "cell_type": "markdown",
      "metadata": {
        "id": "ULIE6_jsnUH6",
        "colab_type": "text"
      },
      "source": [
        "\n",
        "\n",
        "```\n",
        "`# This is formatted as code`\n",
        "```\n",
        "\n",
        "### Its time to split your model into training and testing samples "
      ]
    },
    {
      "cell_type": "code",
      "metadata": {
        "id": "OXabcaf5nUH7",
        "colab_type": "code",
        "colab": {
          "base_uri": "https://localhost:8080/",
          "height": 51
        },
        "outputId": "e9ac106d-5004-4a26-f419-bd1d8e6d500f"
      },
      "source": [
        "### split the data into 80% training and 20% testing \n",
        "### Split X into two variables X_train and X_test\n",
        "### Split Y correspondingly into two variables Y_train and Y_test\n",
        "\n",
        "### Your Code Here\n",
        "import sklearn\n",
        "import pandas as pd\n",
        "from sklearn.model_selection import train_test_split\n",
        "from matplotlib import pyplot as plt\n",
        "X_train,X_test,Yp_train,Yp_test=train_test_split(X,Yp,test_size=0.2)\n",
        "print(X_train.shape,X_test.shape)\n",
        "print(Yp_train.shape,Yp_test.shape)"
      ],
      "execution_count": 104,
      "outputs": [
        {
          "output_type": "stream",
          "text": [
            "(120, 4) (30, 4)\n",
            "(120, 3) (30, 3)\n"
          ],
          "name": "stdout"
        }
      ]
    },
    {
      "cell_type": "markdown",
      "metadata": {
        "id": "oCeLmAhUnUH9",
        "colab_type": "text"
      },
      "source": [
        "### Data Normalization/Scaling\n"
      ]
    },
    {
      "cell_type": "code",
      "metadata": {
        "id": "q3DEi__unUH9",
        "colab_type": "code",
        "colab": {}
      },
      "source": [
        "### Normalize data to be of zero mean and unit variance\n",
        "def findstdmean(X):\n",
        "  mean=np.sum(X,axis=0)/X.shape[0]\n",
        "  X1=X-mean\n",
        "  std=np.sqrt(np.sum(X1*X1))/X.shape[0]\n",
        "  return mean,std\n",
        "def normalizedX(X,mean,std):\n",
        "  return (X-mean)/(std+1e-8)\n",
        "\n",
        "mean_train,std_train=findstdmean(X_train)\n",
        "X_train=normalizedX(X_train,mean_train,std_train)"
      ],
      "execution_count": 0,
      "outputs": []
    },
    {
      "cell_type": "markdown",
      "metadata": {
        "id": "FTj2UmbgnUIA",
        "colab_type": "text"
      },
      "source": [
        "Note: If the first 5 samples of X_train and Y_train looks like the one given below\n",
        "then congratulations! You are on the right track;\n",
        "If not, then persistance is the key to success :)\n"
      ]
    },
    {
      "cell_type": "code",
      "metadata": {
        "id": "jMh3ioAwnUIB",
        "colab_type": "code",
        "colab": {
          "base_uri": "https://localhost:8080/",
          "height": 204
        },
        "outputId": "014dae3f-642b-4cdb-919b-11a972b5478b"
      },
      "source": [
        "## Print and observe the normalized inputs and compare with older inputs\n",
        "iris_panda=pd.DataFrame(iris.data,columns=iris.feature_names)\n",
        "iris_panda.head()\n",
        "  "
      ],
      "execution_count": 137,
      "outputs": [
        {
          "output_type": "execute_result",
          "data": {
            "text/html": [
              "<div>\n",
              "<style scoped>\n",
              "    .dataframe tbody tr th:only-of-type {\n",
              "        vertical-align: middle;\n",
              "    }\n",
              "\n",
              "    .dataframe tbody tr th {\n",
              "        vertical-align: top;\n",
              "    }\n",
              "\n",
              "    .dataframe thead th {\n",
              "        text-align: right;\n",
              "    }\n",
              "</style>\n",
              "<table border=\"1\" class=\"dataframe\">\n",
              "  <thead>\n",
              "    <tr style=\"text-align: right;\">\n",
              "      <th></th>\n",
              "      <th>sepal length (cm)</th>\n",
              "      <th>sepal width (cm)</th>\n",
              "      <th>petal length (cm)</th>\n",
              "      <th>petal width (cm)</th>\n",
              "    </tr>\n",
              "  </thead>\n",
              "  <tbody>\n",
              "    <tr>\n",
              "      <th>0</th>\n",
              "      <td>5.1</td>\n",
              "      <td>3.5</td>\n",
              "      <td>1.4</td>\n",
              "      <td>0.2</td>\n",
              "    </tr>\n",
              "    <tr>\n",
              "      <th>1</th>\n",
              "      <td>4.9</td>\n",
              "      <td>3.0</td>\n",
              "      <td>1.4</td>\n",
              "      <td>0.2</td>\n",
              "    </tr>\n",
              "    <tr>\n",
              "      <th>2</th>\n",
              "      <td>4.7</td>\n",
              "      <td>3.2</td>\n",
              "      <td>1.3</td>\n",
              "      <td>0.2</td>\n",
              "    </tr>\n",
              "    <tr>\n",
              "      <th>3</th>\n",
              "      <td>4.6</td>\n",
              "      <td>3.1</td>\n",
              "      <td>1.5</td>\n",
              "      <td>0.2</td>\n",
              "    </tr>\n",
              "    <tr>\n",
              "      <th>4</th>\n",
              "      <td>5.0</td>\n",
              "      <td>3.6</td>\n",
              "      <td>1.4</td>\n",
              "      <td>0.2</td>\n",
              "    </tr>\n",
              "  </tbody>\n",
              "</table>\n",
              "</div>"
            ],
            "text/plain": [
              "   sepal length (cm)  sepal width (cm)  petal length (cm)  petal width (cm)\n",
              "0                5.1               3.5                1.4               0.2\n",
              "1                4.9               3.0                1.4               0.2\n",
              "2                4.7               3.2                1.3               0.2\n",
              "3                4.6               3.1                1.5               0.2\n",
              "4                5.0               3.6                1.4               0.2"
            ]
          },
          "metadata": {
            "tags": []
          },
          "execution_count": 137
        }
      ]
    },
    {
      "cell_type": "code",
      "metadata": {
        "id": "dIsb58H4Gwo8",
        "colab_type": "code",
        "colab": {
          "base_uri": "https://localhost:8080/",
          "height": 204
        },
        "outputId": "4b5e3a66-34b6-4829-a594-ce884fee3a5a"
      },
      "source": [
        "  \n",
        "X_train_panda=pd.DataFrame(X_train,columns=iris.feature_names)\n",
        "X_train_panda.head()"
      ],
      "execution_count": 138,
      "outputs": [
        {
          "output_type": "execute_result",
          "data": {
            "text/html": [
              "<div>\n",
              "<style scoped>\n",
              "    .dataframe tbody tr th:only-of-type {\n",
              "        vertical-align: middle;\n",
              "    }\n",
              "\n",
              "    .dataframe tbody tr th {\n",
              "        vertical-align: top;\n",
              "    }\n",
              "\n",
              "    .dataframe thead th {\n",
              "        text-align: right;\n",
              "    }\n",
              "</style>\n",
              "<table border=\"1\" class=\"dataframe\">\n",
              "  <thead>\n",
              "    <tr style=\"text-align: right;\">\n",
              "      <th></th>\n",
              "      <th>sepal length (cm)</th>\n",
              "      <th>sepal width (cm)</th>\n",
              "      <th>petal length (cm)</th>\n",
              "      <th>petal width (cm)</th>\n",
              "    </tr>\n",
              "  </thead>\n",
              "  <tbody>\n",
              "    <tr>\n",
              "      <th>0</th>\n",
              "      <td>-1.380249</td>\n",
              "      <td>-0.408183</td>\n",
              "      <td>3.686275</td>\n",
              "      <td>1.430746</td>\n",
              "    </tr>\n",
              "    <tr>\n",
              "      <th>1</th>\n",
              "      <td>-5.924972</td>\n",
              "      <td>0.601755</td>\n",
              "      <td>-12.472740</td>\n",
              "      <td>-5.133854</td>\n",
              "    </tr>\n",
              "    <tr>\n",
              "      <th>2</th>\n",
              "      <td>6.699259</td>\n",
              "      <td>2.621632</td>\n",
              "      <td>11.765783</td>\n",
              "      <td>6.480439</td>\n",
              "    </tr>\n",
              "    <tr>\n",
              "      <th>3</th>\n",
              "      <td>3.164474</td>\n",
              "      <td>-0.408183</td>\n",
              "      <td>10.250876</td>\n",
              "      <td>4.965531</td>\n",
              "    </tr>\n",
              "    <tr>\n",
              "      <th>4</th>\n",
              "      <td>0.134658</td>\n",
              "      <td>0.601755</td>\n",
              "      <td>5.201183</td>\n",
              "      <td>2.945654</td>\n",
              "    </tr>\n",
              "  </tbody>\n",
              "</table>\n",
              "</div>"
            ],
            "text/plain": [
              "   sepal length (cm)  sepal width (cm)  petal length (cm)  petal width (cm)\n",
              "0          -1.380249         -0.408183           3.686275          1.430746\n",
              "1          -5.924972          0.601755         -12.472740         -5.133854\n",
              "2           6.699259          2.621632          11.765783          6.480439\n",
              "3           3.164474         -0.408183          10.250876          4.965531\n",
              "4           0.134658          0.601755           5.201183          2.945654"
            ]
          },
          "metadata": {
            "tags": []
          },
          "execution_count": 138
        }
      ]
    },
    {
      "cell_type": "markdown",
      "metadata": {
        "id": "1juSu3NcnUID",
        "colab_type": "text"
      },
      "source": [
        "### Training time (using Neural Networks)"
      ]
    },
    {
      "cell_type": "markdown",
      "metadata": {
        "id": "Xv_qytRgnUIE",
        "colab_type": "text"
      },
      "source": [
        "- create your NN model with given structure (4 input neurons, 8 hidden neurons and 3 output neurons)\n",
        "- use 'relu' activation in hidden layer \n",
        "- use softmax activation in output\n",
        "- Compile your model using 'categorical_crossentropy' loss function and sgd optimizer\n",
        "- Track the accuracy metric of the model"
      ]
    },
    {
      "cell_type": "code",
      "metadata": {
        "id": "6s0FKtvNnUIF",
        "colab_type": "code",
        "colab": {}
      },
      "source": [
        "## Define the model\n",
        "import keras\n",
        "from keras.models import Sequential\n",
        "from keras.layers import Dense,Activation,Input\n",
        "model=Sequential()\n",
        "model.add(Dense(10,input_dim=4,activation='relu'))\n",
        "model.add(Dense(3,activation = 'softmax'))\n",
        "model.compile(loss='categorical_crossentropy', optimizer='adam',metrics=['accuracy'])"
      ],
      "execution_count": 0,
      "outputs": []
    },
    {
      "cell_type": "code",
      "metadata": {
        "id": "HXbwLAnUnUIH",
        "colab_type": "code",
        "colab": {
          "base_uri": "https://localhost:8080/",
          "height": 204
        },
        "outputId": "9a9318b1-4a6e-4e21-a401-a4ea15dfe6d8"
      },
      "source": [
        "## Print the model summary\n",
        "model.summary()"
      ],
      "execution_count": 107,
      "outputs": [
        {
          "output_type": "stream",
          "text": [
            "_________________________________________________________________\n",
            "Layer (type)                 Output Shape              Param #   \n",
            "=================================================================\n",
            "dense_7 (Dense)              (None, 10)                50        \n",
            "_________________________________________________________________\n",
            "dense_8 (Dense)              (None, 3)                 33        \n",
            "=================================================================\n",
            "Total params: 83\n",
            "Trainable params: 83\n",
            "Non-trainable params: 0\n",
            "_________________________________________________________________\n"
          ],
          "name": "stdout"
        }
      ]
    },
    {
      "cell_type": "code",
      "metadata": {
        "id": "xtfaGZFJnUIJ",
        "colab_type": "code",
        "outputId": "6a66fbc3-5c8e-4728-af68-00d0843bcb0d",
        "colab": {
          "base_uri": "https://localhost:8080/",
          "height": 3434
        }
      },
      "source": [
        "## Fit the model to data\n",
        "model.fit(X_train,Yp_train,epochs=100)"
      ],
      "execution_count": 108,
      "outputs": [
        {
          "output_type": "stream",
          "text": [
            "Epoch 1/100\n",
            "120/120 [==============================] - 0s 1ms/step - loss: 6.8253 - acc: 0.0000e+00\n",
            "Epoch 2/100\n",
            "120/120 [==============================] - 0s 60us/step - loss: 6.5851 - acc: 0.0000e+00\n",
            "Epoch 3/100\n",
            "120/120 [==============================] - 0s 81us/step - loss: 6.3334 - acc: 0.0000e+00\n",
            "Epoch 4/100\n",
            "120/120 [==============================] - 0s 61us/step - loss: 6.0854 - acc: 0.0083\n",
            "Epoch 5/100\n",
            "120/120 [==============================] - 0s 58us/step - loss: 5.8413 - acc: 0.0083\n",
            "Epoch 6/100\n",
            "120/120 [==============================] - 0s 94us/step - loss: 5.6070 - acc: 0.0167\n",
            "Epoch 7/100\n",
            "120/120 [==============================] - 0s 78us/step - loss: 5.3751 - acc: 0.0417\n",
            "Epoch 8/100\n",
            "120/120 [==============================] - 0s 63us/step - loss: 5.1546 - acc: 0.0417\n",
            "Epoch 9/100\n",
            "120/120 [==============================] - 0s 65us/step - loss: 4.9526 - acc: 0.0583\n",
            "Epoch 10/100\n",
            "120/120 [==============================] - 0s 66us/step - loss: 4.7448 - acc: 0.0833\n",
            "Epoch 11/100\n",
            "120/120 [==============================] - 0s 64us/step - loss: 4.5297 - acc: 0.0833\n",
            "Epoch 12/100\n",
            "120/120 [==============================] - 0s 79us/step - loss: 4.3328 - acc: 0.1000\n",
            "Epoch 13/100\n",
            "120/120 [==============================] - 0s 70us/step - loss: 4.1321 - acc: 0.1167\n",
            "Epoch 14/100\n",
            "120/120 [==============================] - 0s 69us/step - loss: 3.9434 - acc: 0.1167\n",
            "Epoch 15/100\n",
            "120/120 [==============================] - 0s 53us/step - loss: 3.7447 - acc: 0.1250\n",
            "Epoch 16/100\n",
            "120/120 [==============================] - 0s 64us/step - loss: 3.5552 - acc: 0.1167\n",
            "Epoch 17/100\n",
            "120/120 [==============================] - 0s 71us/step - loss: 3.3801 - acc: 0.1083\n",
            "Epoch 18/100\n",
            "120/120 [==============================] - 0s 76us/step - loss: 3.2073 - acc: 0.1083\n",
            "Epoch 19/100\n",
            "120/120 [==============================] - 0s 72us/step - loss: 3.0511 - acc: 0.1083\n",
            "Epoch 20/100\n",
            "120/120 [==============================] - 0s 78us/step - loss: 2.8961 - acc: 0.1833\n",
            "Epoch 21/100\n",
            "120/120 [==============================] - 0s 85us/step - loss: 2.7646 - acc: 0.2500\n",
            "Epoch 22/100\n",
            "120/120 [==============================] - 0s 92us/step - loss: 2.6438 - acc: 0.3167\n",
            "Epoch 23/100\n",
            "120/120 [==============================] - 0s 74us/step - loss: 2.5304 - acc: 0.3833\n",
            "Epoch 24/100\n",
            "120/120 [==============================] - 0s 113us/step - loss: 2.4334 - acc: 0.4250\n",
            "Epoch 25/100\n",
            "120/120 [==============================] - 0s 99us/step - loss: 2.3466 - acc: 0.4417\n",
            "Epoch 26/100\n",
            "120/120 [==============================] - 0s 84us/step - loss: 2.2650 - acc: 0.4417\n",
            "Epoch 27/100\n",
            "120/120 [==============================] - 0s 73us/step - loss: 2.1866 - acc: 0.4417\n",
            "Epoch 28/100\n",
            "120/120 [==============================] - 0s 79us/step - loss: 2.1193 - acc: 0.4417\n",
            "Epoch 29/100\n",
            "120/120 [==============================] - 0s 77us/step - loss: 2.0535 - acc: 0.4583\n",
            "Epoch 30/100\n",
            "120/120 [==============================] - 0s 74us/step - loss: 1.9901 - acc: 0.4583\n",
            "Epoch 31/100\n",
            "120/120 [==============================] - 0s 67us/step - loss: 1.9289 - acc: 0.4667\n",
            "Epoch 32/100\n",
            "120/120 [==============================] - 0s 60us/step - loss: 1.8700 - acc: 0.4750\n",
            "Epoch 33/100\n",
            "120/120 [==============================] - 0s 54us/step - loss: 1.8150 - acc: 0.4750\n",
            "Epoch 34/100\n",
            "120/120 [==============================] - 0s 48us/step - loss: 1.7571 - acc: 0.4750\n",
            "Epoch 35/100\n",
            "120/120 [==============================] - 0s 50us/step - loss: 1.7081 - acc: 0.4750\n",
            "Epoch 36/100\n",
            "120/120 [==============================] - 0s 49us/step - loss: 1.6577 - acc: 0.4750\n",
            "Epoch 37/100\n",
            "120/120 [==============================] - 0s 55us/step - loss: 1.6102 - acc: 0.4917\n",
            "Epoch 38/100\n",
            "120/120 [==============================] - 0s 50us/step - loss: 1.5643 - acc: 0.5000\n",
            "Epoch 39/100\n",
            "120/120 [==============================] - 0s 76us/step - loss: 1.5192 - acc: 0.5083\n",
            "Epoch 40/100\n",
            "120/120 [==============================] - 0s 63us/step - loss: 1.4747 - acc: 0.5083\n",
            "Epoch 41/100\n",
            "120/120 [==============================] - 0s 61us/step - loss: 1.4368 - acc: 0.5083\n",
            "Epoch 42/100\n",
            "120/120 [==============================] - 0s 84us/step - loss: 1.3965 - acc: 0.5083\n",
            "Epoch 43/100\n",
            "120/120 [==============================] - 0s 80us/step - loss: 1.3576 - acc: 0.5083\n",
            "Epoch 44/100\n",
            "120/120 [==============================] - 0s 105us/step - loss: 1.3238 - acc: 0.5083\n",
            "Epoch 45/100\n",
            "120/120 [==============================] - 0s 71us/step - loss: 1.2887 - acc: 0.5083\n",
            "Epoch 46/100\n",
            "120/120 [==============================] - 0s 136us/step - loss: 1.2532 - acc: 0.5167\n",
            "Epoch 47/100\n",
            "120/120 [==============================] - 0s 80us/step - loss: 1.2227 - acc: 0.5167\n",
            "Epoch 48/100\n",
            "120/120 [==============================] - 0s 69us/step - loss: 1.1916 - acc: 0.5167\n",
            "Epoch 49/100\n",
            "120/120 [==============================] - 0s 77us/step - loss: 1.1612 - acc: 0.5167\n",
            "Epoch 50/100\n",
            "120/120 [==============================] - 0s 71us/step - loss: 1.1324 - acc: 0.5167\n",
            "Epoch 51/100\n",
            "120/120 [==============================] - 0s 95us/step - loss: 1.1065 - acc: 0.5167\n",
            "Epoch 52/100\n",
            "120/120 [==============================] - 0s 79us/step - loss: 1.0807 - acc: 0.5167\n",
            "Epoch 53/100\n",
            "120/120 [==============================] - 0s 83us/step - loss: 1.0557 - acc: 0.5167\n",
            "Epoch 54/100\n",
            "120/120 [==============================] - 0s 70us/step - loss: 1.0329 - acc: 0.5167\n",
            "Epoch 55/100\n",
            "120/120 [==============================] - 0s 83us/step - loss: 1.0102 - acc: 0.5167\n",
            "Epoch 56/100\n",
            "120/120 [==============================] - 0s 90us/step - loss: 0.9869 - acc: 0.5167\n",
            "Epoch 57/100\n",
            "120/120 [==============================] - 0s 74us/step - loss: 0.9667 - acc: 0.5167\n",
            "Epoch 58/100\n",
            "120/120 [==============================] - 0s 80us/step - loss: 0.9464 - acc: 0.5250\n",
            "Epoch 59/100\n",
            "120/120 [==============================] - 0s 81us/step - loss: 0.9275 - acc: 0.5333\n",
            "Epoch 60/100\n",
            "120/120 [==============================] - 0s 78us/step - loss: 0.9090 - acc: 0.5417\n",
            "Epoch 61/100\n",
            "120/120 [==============================] - 0s 73us/step - loss: 0.8914 - acc: 0.5417\n",
            "Epoch 62/100\n",
            "120/120 [==============================] - 0s 68us/step - loss: 0.8738 - acc: 0.5417\n",
            "Epoch 63/100\n",
            "120/120 [==============================] - 0s 67us/step - loss: 0.8572 - acc: 0.5417\n",
            "Epoch 64/100\n",
            "120/120 [==============================] - 0s 64us/step - loss: 0.8414 - acc: 0.5417\n",
            "Epoch 65/100\n",
            "120/120 [==============================] - 0s 64us/step - loss: 0.8259 - acc: 0.5417\n",
            "Epoch 66/100\n",
            "120/120 [==============================] - 0s 56us/step - loss: 0.8126 - acc: 0.5500\n",
            "Epoch 67/100\n",
            "120/120 [==============================] - 0s 59us/step - loss: 0.7984 - acc: 0.5500\n",
            "Epoch 68/100\n",
            "120/120 [==============================] - 0s 67us/step - loss: 0.7858 - acc: 0.5500\n",
            "Epoch 69/100\n",
            "120/120 [==============================] - 0s 57us/step - loss: 0.7727 - acc: 0.5500\n",
            "Epoch 70/100\n",
            "120/120 [==============================] - 0s 55us/step - loss: 0.7604 - acc: 0.5500\n",
            "Epoch 71/100\n",
            "120/120 [==============================] - 0s 65us/step - loss: 0.7492 - acc: 0.5500\n",
            "Epoch 72/100\n",
            "120/120 [==============================] - 0s 75us/step - loss: 0.7380 - acc: 0.5583\n",
            "Epoch 73/100\n",
            "120/120 [==============================] - 0s 73us/step - loss: 0.7274 - acc: 0.5667\n",
            "Epoch 74/100\n",
            "120/120 [==============================] - 0s 78us/step - loss: 0.7170 - acc: 0.5750\n",
            "Epoch 75/100\n",
            "120/120 [==============================] - 0s 71us/step - loss: 0.7069 - acc: 0.5917\n",
            "Epoch 76/100\n",
            "120/120 [==============================] - 0s 72us/step - loss: 0.6971 - acc: 0.5917\n",
            "Epoch 77/100\n",
            "120/120 [==============================] - 0s 80us/step - loss: 0.6885 - acc: 0.6000\n",
            "Epoch 78/100\n",
            "120/120 [==============================] - 0s 79us/step - loss: 0.6795 - acc: 0.6167\n",
            "Epoch 79/100\n",
            "120/120 [==============================] - 0s 76us/step - loss: 0.6715 - acc: 0.6167\n",
            "Epoch 80/100\n",
            "120/120 [==============================] - 0s 70us/step - loss: 0.6628 - acc: 0.6167\n",
            "Epoch 81/100\n",
            "120/120 [==============================] - 0s 72us/step - loss: 0.6552 - acc: 0.6167\n",
            "Epoch 82/100\n",
            "120/120 [==============================] - 0s 68us/step - loss: 0.6479 - acc: 0.6333\n",
            "Epoch 83/100\n",
            "120/120 [==============================] - 0s 64us/step - loss: 0.6406 - acc: 0.6417\n",
            "Epoch 84/100\n",
            "120/120 [==============================] - 0s 66us/step - loss: 0.6331 - acc: 0.6500\n",
            "Epoch 85/100\n",
            "120/120 [==============================] - 0s 72us/step - loss: 0.6263 - acc: 0.6500\n",
            "Epoch 86/100\n",
            "120/120 [==============================] - 0s 85us/step - loss: 0.6196 - acc: 0.6667\n",
            "Epoch 87/100\n",
            "120/120 [==============================] - 0s 69us/step - loss: 0.6133 - acc: 0.6833\n",
            "Epoch 88/100\n",
            "120/120 [==============================] - 0s 60us/step - loss: 0.6068 - acc: 0.6833\n",
            "Epoch 89/100\n",
            "120/120 [==============================] - 0s 76us/step - loss: 0.6009 - acc: 0.6833\n",
            "Epoch 90/100\n",
            "120/120 [==============================] - 0s 99us/step - loss: 0.5948 - acc: 0.6833\n",
            "Epoch 91/100\n",
            "120/120 [==============================] - 0s 76us/step - loss: 0.5893 - acc: 0.7000\n",
            "Epoch 92/100\n",
            "120/120 [==============================] - 0s 76us/step - loss: 0.5840 - acc: 0.7083\n",
            "Epoch 93/100\n",
            "120/120 [==============================] - 0s 74us/step - loss: 0.5787 - acc: 0.7250\n",
            "Epoch 94/100\n",
            "120/120 [==============================] - 0s 77us/step - loss: 0.5737 - acc: 0.7333\n",
            "Epoch 95/100\n",
            "120/120 [==============================] - 0s 94us/step - loss: 0.5686 - acc: 0.7583\n",
            "Epoch 96/100\n",
            "120/120 [==============================] - 0s 79us/step - loss: 0.5643 - acc: 0.7667\n",
            "Epoch 97/100\n",
            "120/120 [==============================] - 0s 74us/step - loss: 0.5590 - acc: 0.7750\n",
            "Epoch 98/100\n",
            "120/120 [==============================] - 0s 82us/step - loss: 0.5545 - acc: 0.7833\n",
            "Epoch 99/100\n",
            "120/120 [==============================] - 0s 83us/step - loss: 0.5498 - acc: 0.7833\n",
            "Epoch 100/100\n",
            "120/120 [==============================] - 0s 75us/step - loss: 0.5455 - acc: 0.7917\n"
          ],
          "name": "stdout"
        },
        {
          "output_type": "execute_result",
          "data": {
            "text/plain": [
              "<keras.callbacks.History at 0x7fc7ce77ec88>"
            ]
          },
          "metadata": {
            "tags": []
          },
          "execution_count": 108
        }
      ]
    },
    {
      "cell_type": "code",
      "metadata": {
        "id": "p6PBZPWHnUIL",
        "colab_type": "code",
        "colab": {
          "base_uri": "https://localhost:8080/",
          "height": 34
        },
        "outputId": "043a6ac4-c02f-4ad2-9f91-35451ae82177"
      },
      "source": [
        "## Test the accuracy of the model on test data\n",
        "mean_test,std_test=findstdmean(X_test)\n",
        "X_test=normalizedX(X_test,mean_test,std_test)\n",
        "def test_testData():\n",
        "    assert Y_test.shape==(30,3)\n",
        "    assert X_test.shape==(30,4)\n",
        "#     mn, sn = findMeanStddev(X_test)\n",
        "#     assert np.allclose(mn, np.zeros(2), atol=1)\n",
        "#     assert np.allclose(sn, np.ones(2), atol=1)\n",
        "    print(\"OK\")\n",
        "test_testData()\n",
        "loss,accuracy=model.evaluate(X_test,Yp_test,verbose=0)# evaluate the model\n",
        "Yp_predict=model.predict(X_test)\n",
        "from sklearn.metrics import confusion_matrix\n",
        "m=confusion_matrix(Yp_predict.argmax(axis=1),Yp_test.argmax(axis=1))"
      ],
      "execution_count": 109,
      "outputs": [
        {
          "output_type": "stream",
          "text": [
            "OK\n"
          ],
          "name": "stdout"
        }
      ]
    },
    {
      "cell_type": "markdown",
      "metadata": {
        "id": "yGHz0__5nUIP",
        "colab_type": "text"
      },
      "source": [
        "### Confusion Matrix and Accuracy"
      ]
    },
    {
      "cell_type": "code",
      "metadata": {
        "id": "QdZUqdnQnUIQ",
        "colab_type": "code",
        "colab": {
          "base_uri": "https://localhost:8080/",
          "height": 85
        },
        "outputId": "94e6bc37-0c1f-4778-80eb-4dc77ab3666e"
      },
      "source": [
        "### Lastly, report the accuracy of your model and print the Confusion Matrix\n",
        "print(\"accuracy:%0.5f\"%accuracy)\n",
        "print(m)"
      ],
      "execution_count": 110,
      "outputs": [
        {
          "output_type": "stream",
          "text": [
            "accuracy:0.93333\n",
            "[[ 9  0  0]\n",
            " [ 0 13  1]\n",
            " [ 0  1  6]]\n"
          ],
          "name": "stdout"
        }
      ]
    },
    {
      "cell_type": "code",
      "metadata": {
        "id": "CKdLFKHxCO--",
        "colab_type": "code",
        "colab": {}
      },
      "source": [
        ""
      ],
      "execution_count": 0,
      "outputs": []
    }
  ]
}