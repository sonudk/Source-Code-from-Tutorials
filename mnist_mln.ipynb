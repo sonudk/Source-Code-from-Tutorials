{
  "nbformat": 4,
  "nbformat_minor": 0,
  "metadata": {
    "colab": {
      "name": "mnist_mln.ipynb",
      "version": "0.3.2",
      "provenance": [],
      "collapsed_sections": [],
      "include_colab_link": true
    },
    "language_info": {
      "codemirror_mode": {
        "name": "ipython",
        "version": 3
      },
      "file_extension": ".py",
      "mimetype": "text/x-python",
      "name": "python",
      "nbconvert_exporter": "python",
      "pygments_lexer": "ipython3",
      "version": "3.6.8"
    },
    "kernelspec": {
      "display_name": "Python 3",
      "language": "python",
      "name": "python3"
    }
  },
  "cells": [
    {
      "cell_type": "markdown",
      "metadata": {
        "id": "view-in-github",
        "colab_type": "text"
      },
      "source": [
        "<a href=\"https://colab.research.google.com/github/sonudk/Source-Code-from-Tutorials/blob/master/mnist_mln.ipynb\" target=\"_parent\"><img src=\"https://colab.research.google.com/assets/colab-badge.svg\" alt=\"Open In Colab\"/></a>"
      ]
    },
    {
      "cell_type": "markdown",
      "metadata": {
        "id": "pynTgvZNM4eK",
        "colab_type": "text"
      },
      "source": [
        "# Classification of handwritten digits using Multi Layered Network"
      ]
    },
    {
      "cell_type": "markdown",
      "metadata": {
        "id": "_8gTtxjSM4eM",
        "colab_type": "text"
      },
      "source": [
        "# MNIST Dataset\n",
        "\n",
        "<img src=\"https://upload.wikimedia.org/wikipedia/commons/2/27/MnistExamples.png\" title=\"MNIST dataset\" align=\"center\"/>\n",
        "\n"
      ]
    },
    {
      "cell_type": "markdown",
      "metadata": {
        "id": "KJFN2y6uM4eN",
        "colab_type": "text"
      },
      "source": [
        "# Problem\n",
        "Classify handwritten digits from 0 - 9. <br>\n",
        "Each image is 28x28 pixels\n",
        "\n",
        "<img src=\"https://corochann.com/wp-content/uploads/2017/02/mnist_plot.png\" title=\"\" align=\"center\"/>\n"
      ]
    },
    {
      "cell_type": "markdown",
      "metadata": {
        "id": "vwEdsMtYM4eO",
        "colab_type": "text"
      },
      "source": [
        "# Understanding the data"
      ]
    },
    {
      "cell_type": "code",
      "metadata": {
        "id": "wsnr_QXkM4eP",
        "colab_type": "code",
        "outputId": "b22e20f0-c226-4df0-807f-833e5d3ee72c",
        "colab": {
          "base_uri": "https://localhost:8080/",
          "height": 34
        }
      },
      "source": [
        "# MNIST data is present in the keras library. Load the data using load_data function of mnist\n",
        "# Load the data into 4 variables - train_samples, train_labels, test_samples, test_labels\n",
        "from keras.datasets import mnist\n",
        "print(type(mnist))\n",
        "(train_samples, train_labels) ,(test_samples, test_labels) = mnist.load_data()\n",
        "import sklearn\n",
        "\n"
      ],
      "execution_count": 12,
      "outputs": [
        {
          "output_type": "stream",
          "text": [
            "<class 'module'>\n"
          ],
          "name": "stdout"
        }
      ]
    },
    {
      "cell_type": "markdown",
      "metadata": {
        "id": "lqoYgwGJM4eY",
        "colab_type": "text"
      },
      "source": [
        "### Shape of Data"
      ]
    },
    {
      "cell_type": "code",
      "metadata": {
        "id": "bRljziY3M4eY",
        "colab_type": "code",
        "outputId": "4555617c-2cd0-4a58-ebb7-5bd1945740c7",
        "colab": {
          "base_uri": "https://localhost:8080/",
          "height": 85
        }
      },
      "source": [
        "## Print and observe the shapes of the 4 variables - train_samples, train_labels, test_samples, test_labels\n",
        "print(train_samples.shape)\n",
        "print(test_samples.shape)\n",
        "print(train_labels.shape)\n",
        "print(test_labels.shape)\n",
        "#Your code here"
      ],
      "execution_count": 13,
      "outputs": [
        {
          "output_type": "stream",
          "text": [
            "(60000, 28, 28)\n",
            "(10000, 28, 28)\n",
            "(60000,)\n",
            "(10000,)\n"
          ],
          "name": "stdout"
        }
      ]
    },
    {
      "cell_type": "markdown",
      "metadata": {
        "id": "mcwq519xM4ec",
        "colab_type": "text"
      },
      "source": [
        "### Range of Values\n",
        "Look at the range of values"
      ]
    },
    {
      "cell_type": "code",
      "metadata": {
        "id": "AOkzxyu7M4ed",
        "colab_type": "code",
        "outputId": "d9172957-011d-4a9d-e984-ae527eafae9e",
        "colab": {
          "base_uri": "https://localhost:8080/",
          "height": 34
        }
      },
      "source": [
        "import numpy as np\n",
        "### Print max value of samples in train_samples\n",
        "\n",
        "# Your code here\n",
        "#print(train_samples[train_samples.argmax()])\n",
        "\n",
        "print(np.amax(train_samples))"
      ],
      "execution_count": 14,
      "outputs": [
        {
          "output_type": "stream",
          "text": [
            "255\n"
          ],
          "name": "stdout"
        }
      ]
    },
    {
      "cell_type": "code",
      "metadata": {
        "id": "SpOXorsOM4ef",
        "colab_type": "code",
        "outputId": "8c85aceb-8e95-433a-a18b-b9483de4e60e",
        "colab": {
          "base_uri": "https://localhost:8080/",
          "height": 34
        }
      },
      "source": [
        "### Print min values of samples in train_samples\n",
        "\n",
        "#Your code here\n",
        "#print(train_samples[train_samples.argmin()])\n",
        "print(np.amin(train_samples))# this is the way to get max element using numpy you also can write code for this\n"
      ],
      "execution_count": 15,
      "outputs": [
        {
          "output_type": "stream",
          "text": [
            "0\n"
          ],
          "name": "stdout"
        }
      ]
    },
    {
      "cell_type": "markdown",
      "metadata": {
        "id": "nwIlM6DWM4ei",
        "colab_type": "text"
      },
      "source": [
        "# Data Preparation"
      ]
    },
    {
      "cell_type": "markdown",
      "metadata": {
        "id": "CTv13J8pM4ei",
        "colab_type": "text"
      },
      "source": [
        "### Normalize inputs to (0, 1)"
      ]
    },
    {
      "cell_type": "code",
      "metadata": {
        "id": "m5oo7fLuM4ej",
        "colab_type": "code",
        "outputId": "d159fe24-ddab-48f9-be06-efe651882241",
        "colab": {
          "base_uri": "https://localhost:8080/",
          "height": 34
        }
      },
      "source": [
        "# Convert data type of elements in train_samples and test_samples from uint8 to float32\n",
        "\n",
        "#Your Code here\n",
        "\n",
        "'''\n",
        "print(np.ndarray.__bases__)\n",
        "\n",
        "for i in range(28):\n",
        "  for j in range(28):\n",
        "    train_samples[i][j]=float(train_samples[i][j])\n",
        "    \n",
        "#train_samples=float(train_samples)\n",
        "train_samples.astype(float)\n",
        "for i in range(28):\n",
        "  for j in range(28):\n",
        "    train_samples[i][j]=train_samples[i][j].astype(float)\n",
        "print()\n",
        "print(type(train_samples))\n",
        "print(train_samples)print(train_samples.shape)\n",
        "print(train_samples[2])'''\n",
        "\n",
        "train_samples= np.ndarray.astype(train_samples,dtype=float)\n",
        "test_samples= np.ndarray.astype(test_samples,dtype=float)\n",
        "\n",
        "print(type(train_samples))\n",
        "train_samples_max=np.amax(train_samples)\n",
        "\n"
      ],
      "execution_count": 16,
      "outputs": [
        {
          "output_type": "stream",
          "text": [
            "<class 'numpy.ndarray'>\n"
          ],
          "name": "stdout"
        }
      ]
    },
    {
      "cell_type": "code",
      "metadata": {
        "id": "zcwM083VM4ep",
        "colab_type": "code",
        "outputId": "c6b3a7c0-e126-4de2-84d7-7f3076a6008f",
        "colab": {
          "base_uri": "https://localhost:8080/",
          "height": 34
        }
      },
      "source": [
        "# Normalize inputs to (0,1)\n",
        "# Divide train_samples and test_samples by max value of train_samples\n",
        "\n",
        "#Your code here\n",
        "# now the data type is float so we get float by using 255.0\n",
        "train_samples=train_samples/train_samples_max\n",
        "test_samples=test_samples/train_samples_max\n",
        "print(test_samples.shape)\n",
        "#print(test_samples[289])\n",
        "\n"
      ],
      "execution_count": 17,
      "outputs": [
        {
          "output_type": "stream",
          "text": [
            "(10000, 28, 28)\n"
          ],
          "name": "stdout"
        }
      ]
    },
    {
      "cell_type": "markdown",
      "metadata": {
        "id": "wAKKpFycM4ev",
        "colab_type": "text"
      },
      "source": [
        "### Convert outputs to 1-hot vectors"
      ]
    },
    {
      "cell_type": "code",
      "metadata": {
        "id": "XwcQnM_CM4ew",
        "colab_type": "code",
        "outputId": "fd5f63b7-c901-4284-ca61-aec4f8437f31",
        "colab": {
          "base_uri": "https://localhost:8080/",
          "height": 139
        }
      },
      "source": [
        "# convert train_labels and test_labels to 1-hot encoding\n",
        "\n",
        "#Your code here\n",
        "'''print(test_labels)\n",
        "print(len(test_labels))\n",
        "print(test_labels.shape)\n",
        "\n",
        "print(train_labels)\n",
        "print(train_labels.shape)\n",
        "print(train_labels[234])\n",
        "\n",
        "\n",
        "train_labels_oneHot=np.zeros((10000,10))\n",
        "for i in range(10000):\n",
        "  train_labels_oneHot[i,train_labels[0,i]]=1\n",
        "print(train_labels)'''\n",
        "\n",
        "print(train_labels)\n",
        "print(train_labels.shape)\n",
        "train_labels_oneHot=np.zeros((60000,10))\n",
        "for i in range(60000):\n",
        "  train_labels_oneHot[i,train_labels[i]]=1\n",
        "print(train_labels_oneHot.shape)\n",
        "test_labels_oneHot=np.zeros((10000,10))\n",
        "for i in range(10000):\n",
        "  test_labels_oneHot[i,test_labels[i]]=1\n",
        "print(test_labels_oneHot.shape)\n",
        "print(train_labels_oneHot[2])\n",
        "'''print(train_labels[2])\n",
        "print(train_labels_oneHot[2])\n",
        "#for i in range(60000):\n",
        "assert np.all(train_labels_oneHot==train_labels)'''\n",
        "# to insure things are smooth we have to cross check"
      ],
      "execution_count": 18,
      "outputs": [
        {
          "output_type": "stream",
          "text": [
            "[5 0 4 ... 5 6 8]\n",
            "(60000,)\n",
            "(60000, 10)\n",
            "(10000, 10)\n",
            "[0. 0. 0. 0. 1. 0. 0. 0. 0. 0.]\n"
          ],
          "name": "stdout"
        },
        {
          "output_type": "execute_result",
          "data": {
            "text/plain": [
              "'print(train_labels[2])\\nprint(train_labels_oneHot[2])\\n#for i in range(60000):\\nassert np.all(train_labels_oneHot==train_labels)'"
            ]
          },
          "metadata": {
            "tags": []
          },
          "execution_count": 18
        }
      ]
    },
    {
      "cell_type": "markdown",
      "metadata": {
        "id": "K7cVVbo0M4ez",
        "colab_type": "text"
      },
      "source": [
        "# Network Architecture"
      ]
    },
    {
      "cell_type": "code",
      "metadata": {
        "id": "pJLP4vLBM4e1",
        "colab_type": "code",
        "outputId": "5353d13a-1e21-44d3-c4e2-8aaec69efb98",
        "colab": {
          "base_uri": "https://localhost:8080/",
          "height": 68
        }
      },
      "source": [
        "\n",
        "## Input is currently in the shape (samples, height, width)\n",
        "## Reshape it such that it is suitable to be fed into a feed forward network\n",
        "## hint - shape should be (samples, ?)\n",
        "\n",
        "# Your code here\n",
        "print(test_samples.shape)\n",
        "train_samples=train_samples.transpose(2,0,1).reshape(60000,-1)\n",
        "print(train_samples.shape)\n",
        "test_samples=test_samples.transpose(2,0,1).reshape(10000,-1)\n",
        "print(test_samples.shape)\n",
        "\n"
      ],
      "execution_count": 19,
      "outputs": [
        {
          "output_type": "stream",
          "text": [
            "(10000, 28, 28)\n",
            "(60000, 784)\n",
            "(10000, 784)\n"
          ],
          "name": "stdout"
        }
      ]
    },
    {
      "cell_type": "code",
      "metadata": {
        "id": "tMoDdbp6M4e7",
        "colab_type": "code",
        "outputId": "e54b8d07-deb5-4302-b07e-4517854dcbdb",
        "colab": {
          "base_uri": "https://localhost:8080/",
          "height": 88
        }
      },
      "source": [
        "# Layer definitions\n",
        "\n",
        "##Create a multi-layered neural network\n",
        "## 1st hidden layer with 512 neurons and 'relu' activation\n",
        "## 2nd hidden layer with 256 neurons and 'relu' activation\n",
        "## Output layer with softmax activation\n",
        "### Use Adam optimizer of keras\n",
        "### Categorical cross entropy is loss\n",
        "\n",
        "# Your code here\n",
        "from keras.layers import Input, Dense\n",
        "from keras.models import Sequential\n",
        "from keras import optimizers\n",
        "model=Sequential()\n",
        "model.add(Dense(512,input_dim=784,activation='relu'))\n",
        "model.add(Dense(256,activation='relu'))\n",
        "model.add(Dense(10,activation='softmax'))\n",
        "model.compile(loss='categorical_crossentropy',optimizer='adam',metrics=['accuracy'])\n"
      ],
      "execution_count": 20,
      "outputs": [
        {
          "output_type": "stream",
          "text": [
            "WARNING:tensorflow:From /usr/local/lib/python3.6/dist-packages/tensorflow/python/framework/op_def_library.py:263: colocate_with (from tensorflow.python.framework.ops) is deprecated and will be removed in a future version.\n",
            "Instructions for updating:\n",
            "Colocations handled automatically by placer.\n"
          ],
          "name": "stdout"
        }
      ]
    },
    {
      "cell_type": "code",
      "metadata": {
        "scrolled": true,
        "id": "5W5QSYPAM4fA",
        "colab_type": "code",
        "outputId": "98951a57-a7bf-4f5c-a503-2c621474b655",
        "colab": {
          "base_uri": "https://localhost:8080/",
          "height": 238
        }
      },
      "source": [
        "### Print summary of model and check if it is as desired. Also check total number of parameters to be trained.\n",
        "\n",
        "#Your code here\n",
        "model.summary()"
      ],
      "execution_count": 21,
      "outputs": [
        {
          "output_type": "stream",
          "text": [
            "_________________________________________________________________\n",
            "Layer (type)                 Output Shape              Param #   \n",
            "=================================================================\n",
            "dense_1 (Dense)              (None, 512)               401920    \n",
            "_________________________________________________________________\n",
            "dense_2 (Dense)              (None, 256)               131328    \n",
            "_________________________________________________________________\n",
            "dense_3 (Dense)              (None, 10)                2570      \n",
            "=================================================================\n",
            "Total params: 535,818\n",
            "Trainable params: 535,818\n",
            "Non-trainable params: 0\n",
            "_________________________________________________________________\n"
          ],
          "name": "stdout"
        }
      ]
    },
    {
      "cell_type": "code",
      "metadata": {
        "scrolled": true,
        "id": "d8PFkTmRM4fG",
        "colab_type": "code",
        "outputId": "deeb78ff-3488-4b59-b674-4e9204e86b6e",
        "colab": {
          "base_uri": "https://localhost:8080/",
          "height": 1805
        }
      },
      "source": [
        "### Fit the model on train samples. Play with different values of epochs and batch_size. \n",
        "### See which gives the optimal result in the least amount of time.\n",
        "model.fit(train_samples,train_labels_oneHot,epochs=50,batch_size=1000)\n"
      ],
      "execution_count": 22,
      "outputs": [
        {
          "output_type": "stream",
          "text": [
            "WARNING:tensorflow:From /usr/local/lib/python3.6/dist-packages/tensorflow/python/ops/math_ops.py:3066: to_int32 (from tensorflow.python.ops.math_ops) is deprecated and will be removed in a future version.\n",
            "Instructions for updating:\n",
            "Use tf.cast instead.\n",
            "Epoch 1/50\n",
            "60000/60000 [==============================] - 4s 63us/step - loss: 2.3085 - acc: 0.1054\n",
            "Epoch 2/50\n",
            "60000/60000 [==============================] - 4s 60us/step - loss: 2.2916 - acc: 0.1252\n",
            "Epoch 3/50\n",
            "60000/60000 [==============================] - 4s 60us/step - loss: 2.2713 - acc: 0.1483\n",
            "Epoch 4/50\n",
            "60000/60000 [==============================] - 4s 60us/step - loss: 2.2344 - acc: 0.1735\n",
            "Epoch 5/50\n",
            "60000/60000 [==============================] - 4s 60us/step - loss: 2.1723 - acc: 0.2118\n",
            "Epoch 6/50\n",
            "60000/60000 [==============================] - 4s 60us/step - loss: 2.0736 - acc: 0.2561\n",
            "Epoch 7/50\n",
            "60000/60000 [==============================] - 4s 60us/step - loss: 1.9414 - acc: 0.3152\n",
            "Epoch 8/50\n",
            "60000/60000 [==============================] - 4s 60us/step - loss: 1.7916 - acc: 0.3690\n",
            "Epoch 9/50\n",
            "60000/60000 [==============================] - 4s 60us/step - loss: 1.6400 - acc: 0.4279\n",
            "Epoch 10/50\n",
            "60000/60000 [==============================] - 4s 60us/step - loss: 1.4983 - acc: 0.4801\n",
            "Epoch 11/50\n",
            "60000/60000 [==============================] - 4s 60us/step - loss: 1.3698 - acc: 0.5251\n",
            "Epoch 12/50\n",
            "60000/60000 [==============================] - 4s 61us/step - loss: 1.2494 - acc: 0.5691\n",
            "Epoch 13/50\n",
            "60000/60000 [==============================] - 4s 62us/step - loss: 1.1518 - acc: 0.6018\n",
            "Epoch 14/50\n",
            "60000/60000 [==============================] - 4s 62us/step - loss: 1.0535 - acc: 0.6408\n",
            "Epoch 15/50\n",
            "60000/60000 [==============================] - 4s 59us/step - loss: 0.9763 - acc: 0.6680\n",
            "Epoch 16/50\n",
            "60000/60000 [==============================] - 4s 60us/step - loss: 0.9096 - acc: 0.6930\n",
            "Epoch 17/50\n",
            "60000/60000 [==============================] - 4s 60us/step - loss: 0.8598 - acc: 0.7088\n",
            "Epoch 18/50\n",
            "60000/60000 [==============================] - 4s 60us/step - loss: 0.8156 - acc: 0.7238\n",
            "Epoch 19/50\n",
            "60000/60000 [==============================] - 4s 60us/step - loss: 0.7679 - acc: 0.7407\n",
            "Epoch 20/50\n",
            "60000/60000 [==============================] - 4s 61us/step - loss: 0.7339 - acc: 0.7516\n",
            "Epoch 21/50\n",
            "60000/60000 [==============================] - 4s 61us/step - loss: 0.7048 - acc: 0.7599\n",
            "Epoch 22/50\n",
            "60000/60000 [==============================] - 4s 60us/step - loss: 0.6800 - acc: 0.7673\n",
            "Epoch 23/50\n",
            "60000/60000 [==============================] - 4s 61us/step - loss: 0.6630 - acc: 0.7721\n",
            "Epoch 24/50\n",
            "60000/60000 [==============================] - 4s 60us/step - loss: 0.6486 - acc: 0.7763\n",
            "Epoch 25/50\n",
            "60000/60000 [==============================] - 4s 60us/step - loss: 0.6321 - acc: 0.7816\n",
            "Epoch 26/50\n",
            "60000/60000 [==============================] - 4s 60us/step - loss: 0.6180 - acc: 0.7857\n",
            "Epoch 27/50\n",
            "60000/60000 [==============================] - 4s 60us/step - loss: 0.6062 - acc: 0.7867\n",
            "Epoch 28/50\n",
            "60000/60000 [==============================] - 4s 60us/step - loss: 0.6011 - acc: 0.7900\n",
            "Epoch 29/50\n",
            "60000/60000 [==============================] - 4s 60us/step - loss: 0.6211 - acc: 0.7810\n",
            "Epoch 30/50\n",
            "60000/60000 [==============================] - 4s 60us/step - loss: 0.6786 - acc: 0.7590\n",
            "Epoch 31/50\n",
            "60000/60000 [==============================] - 4s 60us/step - loss: 0.6881 - acc: 0.7525\n",
            "Epoch 32/50\n",
            "60000/60000 [==============================] - 4s 60us/step - loss: 0.6466 - acc: 0.7680\n",
            "Epoch 33/50\n",
            "60000/60000 [==============================] - 4s 60us/step - loss: 0.6012 - acc: 0.7861\n",
            "Epoch 34/50\n",
            "60000/60000 [==============================] - 4s 60us/step - loss: 0.5695 - acc: 0.7974\n",
            "Epoch 35/50\n",
            "60000/60000 [==============================] - 4s 61us/step - loss: 0.5496 - acc: 0.8033\n",
            "Epoch 36/50\n",
            "60000/60000 [==============================] - 4s 61us/step - loss: 0.5376 - acc: 0.8063\n",
            "Epoch 37/50\n",
            "60000/60000 [==============================] - 4s 60us/step - loss: 0.5293 - acc: 0.8071\n",
            "Epoch 38/50\n",
            "60000/60000 [==============================] - 4s 61us/step - loss: 0.5228 - acc: 0.8103\n",
            "Epoch 39/50\n",
            "60000/60000 [==============================] - 4s 60us/step - loss: 0.5182 - acc: 0.8114\n",
            "Epoch 40/50\n",
            "60000/60000 [==============================] - 4s 60us/step - loss: 0.5144 - acc: 0.8111\n",
            "Epoch 41/50\n",
            "60000/60000 [==============================] - 4s 60us/step - loss: 0.5101 - acc: 0.8136\n",
            "Epoch 42/50\n",
            "60000/60000 [==============================] - 4s 61us/step - loss: 0.5063 - acc: 0.8144\n",
            "Epoch 43/50\n",
            "60000/60000 [==============================] - 4s 60us/step - loss: 0.5035 - acc: 0.8152\n",
            "Epoch 44/50\n",
            "60000/60000 [==============================] - 4s 60us/step - loss: 0.5007 - acc: 0.8157\n",
            "Epoch 45/50\n",
            "60000/60000 [==============================] - 4s 60us/step - loss: 0.4971 - acc: 0.8179\n",
            "Epoch 46/50\n",
            "60000/60000 [==============================] - 4s 60us/step - loss: 0.4956 - acc: 0.8169\n",
            "Epoch 47/50\n",
            "60000/60000 [==============================] - 4s 60us/step - loss: 0.4946 - acc: 0.8173\n",
            "Epoch 48/50\n",
            "60000/60000 [==============================] - 4s 60us/step - loss: 0.7163 - acc: 0.7486\n",
            "Epoch 49/50\n",
            "60000/60000 [==============================] - 4s 60us/step - loss: 0.8225 - acc: 0.7022\n",
            "Epoch 50/50\n",
            "60000/60000 [==============================] - 4s 60us/step - loss: 0.6370 - acc: 0.7671\n"
          ],
          "name": "stdout"
        },
        {
          "output_type": "execute_result",
          "data": {
            "text/plain": [
              "<keras.callbacks.History at 0x7fd9fed86ac8>"
            ]
          },
          "metadata": {
            "tags": []
          },
          "execution_count": 22
        }
      ]
    },
    {
      "cell_type": "code",
      "metadata": {
        "id": "7KmgZH6zM4fL",
        "colab_type": "code",
        "outputId": "6cb18472-1a6a-4369-ff2d-18f79d905bf8",
        "colab": {
          "base_uri": "https://localhost:8080/",
          "height": 51
        }
      },
      "source": [
        "##Evaluate the model on test samples and print accuracy\n",
        "# why with batch size accuracy increase and with epochs Increases that is easy to get\n",
        "# Your code here\n",
        "# in above epochs case why accuracy is decreasing in each epoch\n",
        "loss,accuracy=model.evaluate(test_samples,test_labels_oneHot,verbose=0)\n",
        "import sklearn\n",
        "from sklearn.metrics import confusion_matrix\n",
        "predict_labels=model.predict(test_samples)\n",
        "print(predict_labels.shape)\n",
        "'''predict_labels_oneHot=np.zeros((10000,10))\n",
        "for i in range(10000):\n",
        "  predict_labels_oneHot[i,predict_labels[i]]=1\n",
        "print(predict_labels_oneHot.shape)'''\n",
        "print(test_labels_oneHot.shape)\n",
        "m=confusion_matrix(test_labels_oneHot.argmax(axis=1),predict_labels.argmax(axis=1))\n"
      ],
      "execution_count": 23,
      "outputs": [
        {
          "output_type": "stream",
          "text": [
            "(10000, 10)\n",
            "(10000, 10)\n"
          ],
          "name": "stdout"
        }
      ]
    },
    {
      "cell_type": "code",
      "metadata": {
        "id": "S7_e6OAaM4fQ",
        "colab_type": "code",
        "outputId": "995c46ed-776b-4501-faaf-3e77e528ef8e",
        "colab": {
          "base_uri": "https://localhost:8080/",
          "height": 204
        }
      },
      "source": [
        "### Print confusion matrix\n",
        "\n",
        "# Your code here\n",
        "print(m)\n",
        "print('accuracy of model:%0.4f'%accuracy)"
      ],
      "execution_count": 24,
      "outputs": [
        {
          "output_type": "stream",
          "text": [
            "[[ 68 103 119  46 232 127  54  63  83  85]\n",
            " [ 80 111 143  51 300 127  66  74  92  91]\n",
            " [ 72  98 133  48 263 119  68  62  93  76]\n",
            " [ 70  89 129  44 265 120  57  66  80  90]\n",
            " [ 65  77 118  47 257 124  69  70  72  83]\n",
            " [ 47  85 107  46 225  98  58  74  64  88]\n",
            " [ 64  99 101  42 247 118  79  49  89  70]\n",
            " [ 85  82 118  50 250 138  64  74  71  96]\n",
            " [ 61  94 123  54 252 110  66  73  72  69]\n",
            " [ 62 101 126  36 246 148  55  62  82  91]]\n",
            "accuracy of model:0.1027\n"
          ],
          "name": "stdout"
        }
      ]
    },
    {
      "cell_type": "code",
      "metadata": {
        "id": "Obkr47dcX1QU",
        "colab_type": "code",
        "colab": {}
      },
      "source": [
        ""
      ],
      "execution_count": 0,
      "outputs": []
    }
  ]
}