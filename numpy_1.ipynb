{
  "nbformat": 4,
  "nbformat_minor": 0,
  "metadata": {
    "colab": {
      "name": "numpy_1.ipynb",
      "version": "0.3.2",
      "provenance": [],
      "include_colab_link": true
    },
    "kernelspec": {
      "name": "python3",
      "display_name": "Python 3"
    }
  },
  "cells": [
    {
      "cell_type": "markdown",
      "metadata": {
        "id": "view-in-github",
        "colab_type": "text"
      },
      "source": [
        "<a href=\"https://colab.research.google.com/github/sonudk/Source-Code-from-Tutorials/blob/master/numpy_1.ipynb\" target=\"_parent\"><img src=\"https://colab.research.google.com/assets/colab-badge.svg\" alt=\"Open In Colab\"/></a>"
      ]
    },
    {
      "cell_type": "code",
      "metadata": {
        "id": "Z0XvnfkTPki2",
        "colab_type": "code",
        "colab": {}
      },
      "source": [
        "import numpy as np"
      ],
      "execution_count": 0,
      "outputs": []
    },
    {
      "cell_type": "code",
      "metadata": {
        "id": "uUXepmbLPr84",
        "colab_type": "code",
        "colab": {
          "base_uri": "https://localhost:8080/",
          "height": 408
        },
        "outputId": "0f6be235-7458-4176-ddd3-08775e4c5d44"
      },
      "source": [
        "#writing special matrices\n",
        "m1=np.zeros((4,5))\n",
        "m2=np.ones((3,6))\n",
        "m3=np.eye(4)\n",
        "m4=np.diag([1,234,4341,12313,1231,23,231,32,123,1,3,13])\n",
        "print(m1)\n",
        "print(m2)\n",
        "print(m3)\n",
        "print(m4)"
      ],
      "execution_count": 2,
      "outputs": [
        {
          "output_type": "stream",
          "text": [
            "[[0. 0. 0. 0. 0.]\n",
            " [0. 0. 0. 0. 0.]\n",
            " [0. 0. 0. 0. 0.]\n",
            " [0. 0. 0. 0. 0.]]\n",
            "[[1. 1. 1. 1. 1. 1.]\n",
            " [1. 1. 1. 1. 1. 1.]\n",
            " [1. 1. 1. 1. 1. 1.]]\n",
            "[[1. 0. 0. 0.]\n",
            " [0. 1. 0. 0.]\n",
            " [0. 0. 1. 0.]\n",
            " [0. 0. 0. 1.]]\n",
            "[[    1     0     0     0     0     0     0     0     0     0     0     0]\n",
            " [    0   234     0     0     0     0     0     0     0     0     0     0]\n",
            " [    0     0  4341     0     0     0     0     0     0     0     0     0]\n",
            " [    0     0     0 12313     0     0     0     0     0     0     0     0]\n",
            " [    0     0     0     0  1231     0     0     0     0     0     0     0]\n",
            " [    0     0     0     0     0    23     0     0     0     0     0     0]\n",
            " [    0     0     0     0     0     0   231     0     0     0     0     0]\n",
            " [    0     0     0     0     0     0     0    32     0     0     0     0]\n",
            " [    0     0     0     0     0     0     0     0   123     0     0     0]\n",
            " [    0     0     0     0     0     0     0     0     0     1     0     0]\n",
            " [    0     0     0     0     0     0     0     0     0     0     3     0]\n",
            " [    0     0     0     0     0     0     0     0     0     0     0    13]]\n"
          ],
          "name": "stdout"
        }
      ]
    },
    {
      "cell_type": "code",
      "metadata": {
        "id": "njLrcQnKQQn_",
        "colab_type": "code",
        "colab": {
          "base_uri": "https://localhost:8080/",
          "height": 34
        },
        "outputId": "917958fc-0f30-4347-f704-63f794e25658"
      },
      "source": [
        "#indexing elements of Matrices\n",
        "m1[3,2]"
      ],
      "execution_count": 3,
      "outputs": [
        {
          "output_type": "execute_result",
          "data": {
            "text/plain": [
              "0.0"
            ]
          },
          "metadata": {
            "tags": []
          },
          "execution_count": 3
        }
      ]
    },
    {
      "cell_type": "code",
      "metadata": {
        "id": "KM1eXXCFQrKT",
        "colab_type": "code",
        "colab": {
          "base_uri": "https://localhost:8080/",
          "height": 34
        },
        "outputId": "7bafe942-f971-4701-e9a7-2790db023b44"
      },
      "source": [
        "m4[4,4]"
      ],
      "execution_count": 4,
      "outputs": [
        {
          "output_type": "execute_result",
          "data": {
            "text/plain": [
              "1231"
            ]
          },
          "metadata": {
            "tags": []
          },
          "execution_count": 4
        }
      ]
    },
    {
      "cell_type": "code",
      "metadata": {
        "id": "TsTc1SacQt_J",
        "colab_type": "code",
        "colab": {
          "base_uri": "https://localhost:8080/",
          "height": 34
        },
        "outputId": "bbd71206-3606-4421-b5e7-85b122e4be9c"
      },
      "source": [
        "m3[2,2]"
      ],
      "execution_count": 5,
      "outputs": [
        {
          "output_type": "execute_result",
          "data": {
            "text/plain": [
              "1.0"
            ]
          },
          "metadata": {
            "tags": []
          },
          "execution_count": 5
        }
      ]
    },
    {
      "cell_type": "code",
      "metadata": {
        "id": "vFKAMm7KQvqz",
        "colab_type": "code",
        "colab": {
          "base_uri": "https://localhost:8080/",
          "height": 34
        },
        "outputId": "100b9043-9bb3-415f-bfa8-b816ec8c94af"
      },
      "source": [
        "#modifing terms\n",
        "m4[4,4]=12312341\n",
        "m4[4,4]"
      ],
      "execution_count": 6,
      "outputs": [
        {
          "output_type": "execute_result",
          "data": {
            "text/plain": [
              "12312341"
            ]
          },
          "metadata": {
            "tags": []
          },
          "execution_count": 6
        }
      ]
    },
    {
      "cell_type": "code",
      "metadata": {
        "id": "j0KH18UMQ7dy",
        "colab_type": "code",
        "colab": {
          "base_uri": "https://localhost:8080/",
          "height": 425
        },
        "outputId": "b7ab7fd7-ac9b-48d1-e83f-8146d6938bc6"
      },
      "source": [
        "m4"
      ],
      "execution_count": 7,
      "outputs": [
        {
          "output_type": "execute_result",
          "data": {
            "text/plain": [
              "array([[       1,        0,        0,        0,        0,        0,\n",
              "               0,        0,        0,        0,        0,        0],\n",
              "       [       0,      234,        0,        0,        0,        0,\n",
              "               0,        0,        0,        0,        0,        0],\n",
              "       [       0,        0,     4341,        0,        0,        0,\n",
              "               0,        0,        0,        0,        0,        0],\n",
              "       [       0,        0,        0,    12313,        0,        0,\n",
              "               0,        0,        0,        0,        0,        0],\n",
              "       [       0,        0,        0,        0, 12312341,        0,\n",
              "               0,        0,        0,        0,        0,        0],\n",
              "       [       0,        0,        0,        0,        0,       23,\n",
              "               0,        0,        0,        0,        0,        0],\n",
              "       [       0,        0,        0,        0,        0,        0,\n",
              "             231,        0,        0,        0,        0,        0],\n",
              "       [       0,        0,        0,        0,        0,        0,\n",
              "               0,       32,        0,        0,        0,        0],\n",
              "       [       0,        0,        0,        0,        0,        0,\n",
              "               0,        0,      123,        0,        0,        0],\n",
              "       [       0,        0,        0,        0,        0,        0,\n",
              "               0,        0,        0,        1,        0,        0],\n",
              "       [       0,        0,        0,        0,        0,        0,\n",
              "               0,        0,        0,        0,        3,        0],\n",
              "       [       0,        0,        0,        0,        0,        0,\n",
              "               0,        0,        0,        0,        0,       13]])"
            ]
          },
          "metadata": {
            "tags": []
          },
          "execution_count": 7
        }
      ]
    },
    {
      "cell_type": "code",
      "metadata": {
        "id": "HuqIX4BtREpe",
        "colab_type": "code",
        "colab": {
          "base_uri": "https://localhost:8080/",
          "height": 102
        },
        "outputId": "bd7c0485-9eeb-4563-8147-bd4d0a2a9e65"
      },
      "source": [
        "#using random.random to get matrices elements are in range [0,1]\n",
        "m5=np.random.random((3,2))\n",
        "print(m5)\n",
        "print(m5.T)"
      ],
      "execution_count": 8,
      "outputs": [
        {
          "output_type": "stream",
          "text": [
            "[[0.31982779 0.41268151]\n",
            " [0.20833195 0.62180124]\n",
            " [0.97118831 0.09023065]]\n",
            "[[0.31982779 0.20833195 0.97118831]\n",
            " [0.41268151 0.62180124 0.09023065]]\n"
          ],
          "name": "stdout"
        }
      ]
    },
    {
      "cell_type": "code",
      "metadata": {
        "id": "Di3JqON3RlNj",
        "colab_type": "code",
        "colab": {
          "base_uri": "https://localhost:8080/",
          "height": 34
        },
        "outputId": "b2c328dd-94b1-4678-b39b-5e7ec76f689e"
      },
      "source": [
        "m5[0,:]"
      ],
      "execution_count": 11,
      "outputs": [
        {
          "output_type": "execute_result",
          "data": {
            "text/plain": [
              "array([0.31982779, 0.41268151])"
            ]
          },
          "metadata": {
            "tags": []
          },
          "execution_count": 11
        }
      ]
    },
    {
      "cell_type": "code",
      "metadata": {
        "id": "lpFn6RGWSDL4",
        "colab_type": "code",
        "colab": {
          "base_uri": "https://localhost:8080/",
          "height": 34
        },
        "outputId": "bffc8ded-7f6b-4ab8-f0f3-a116fcaf6792"
      },
      "source": [
        "m5[:,1]"
      ],
      "execution_count": 12,
      "outputs": [
        {
          "output_type": "execute_result",
          "data": {
            "text/plain": [
              "array([0.41268151, 0.62180124, 0.09023065])"
            ]
          },
          "metadata": {
            "tags": []
          },
          "execution_count": 12
        }
      ]
    },
    {
      "cell_type": "code",
      "metadata": {
        "id": "0mHP9cnaSHH0",
        "colab_type": "code",
        "colab": {}
      },
      "source": [
        "m6=np.random.random((2,3))"
      ],
      "execution_count": 0,
      "outputs": []
    },
    {
      "cell_type": "code",
      "metadata": {
        "id": "YlXyVkesTRqL",
        "colab_type": "code",
        "colab": {}
      },
      "source": [
        "m7=m5+m6.T"
      ],
      "execution_count": 0,
      "outputs": []
    },
    {
      "cell_type": "code",
      "metadata": {
        "id": "dErZIYgCTVBy",
        "colab_type": "code",
        "colab": {
          "base_uri": "https://localhost:8080/",
          "height": 51
        },
        "outputId": "374c75e8-3b5e-44cc-91ef-88158910855f"
      },
      "source": [
        "print(m6)"
      ],
      "execution_count": 15,
      "outputs": [
        {
          "output_type": "stream",
          "text": [
            "[[0.17360288 0.1011226  0.06936951]\n",
            " [0.03049345 0.20278983 0.51420953]]\n"
          ],
          "name": "stdout"
        }
      ]
    },
    {
      "cell_type": "code",
      "metadata": {
        "id": "TZShs9kwTXVP",
        "colab_type": "code",
        "colab": {
          "base_uri": "https://localhost:8080/",
          "height": 68
        },
        "outputId": "3fb96596-1e35-4110-e891-7d02d534b385"
      },
      "source": [
        "print(m7)"
      ],
      "execution_count": 16,
      "outputs": [
        {
          "output_type": "stream",
          "text": [
            "[[0.49343066 0.44317495]\n",
            " [0.30945455 0.82459107]\n",
            " [1.04055782 0.60444018]]\n"
          ],
          "name": "stdout"
        }
      ]
    },
    {
      "cell_type": "code",
      "metadata": {
        "id": "t2boZvvmTZ2a",
        "colab_type": "code",
        "colab": {
          "base_uri": "https://localhost:8080/",
          "height": 68
        },
        "outputId": "5015ba09-2983-47ca-f556-3f5c55ee4aab"
      },
      "source": [
        "print(m5*m6.T)"
      ],
      "execution_count": 18,
      "outputs": [
        {
          "output_type": "stream",
          "text": [
            "[[0.05552302 0.01258408]\n",
            " [0.02106707 0.12609497]\n",
            " [0.06737086 0.04639746]]\n"
          ],
          "name": "stdout"
        }
      ]
    },
    {
      "cell_type": "code",
      "metadata": {
        "id": "Fx8-DgwZTjdO",
        "colab_type": "code",
        "colab": {
          "base_uri": "https://localhost:8080/",
          "height": 68
        },
        "outputId": "66ec5f3b-a302-4645-ee72-4b32db06ae8f"
      },
      "source": [
        "print(m5.dot(m6))"
      ],
      "execution_count": 21,
      "outputs": [
        {
          "output_type": "stream",
          "text": [
            "[[0.06810711 0.11602943 0.23439106]\n",
            " [0.05512789 0.14716204 0.33418801]\n",
            " [0.17135253 0.11650694 0.11376832]]\n"
          ],
          "name": "stdout"
        }
      ]
    },
    {
      "cell_type": "code",
      "metadata": {
        "id": "R7nM22RTTqXL",
        "colab_type": "code",
        "colab": {
          "base_uri": "https://localhost:8080/",
          "height": 119
        },
        "outputId": "af0e8ea4-5f0d-4257-b563-4ff1de6d0e52"
      },
      "source": [
        "print([np.concatenate((m5,m6.T),axis=0)])"
      ],
      "execution_count": 22,
      "outputs": [
        {
          "output_type": "stream",
          "text": [
            "[array([[0.31982779, 0.41268151],\n",
            "       [0.20833195, 0.62180124],\n",
            "       [0.97118831, 0.09023065],\n",
            "       [0.17360288, 0.03049345],\n",
            "       [0.1011226 , 0.20278983],\n",
            "       [0.06936951, 0.51420953]])]\n"
          ],
          "name": "stdout"
        }
      ]
    },
    {
      "cell_type": "code",
      "metadata": {
        "id": "klmgWnB2T_mM",
        "colab_type": "code",
        "colab": {
          "base_uri": "https://localhost:8080/",
          "height": 68
        },
        "outputId": "428a3c92-a843-42ac-c874-86dda50f8dbe"
      },
      "source": [
        "print([np.concatenate((m5,m6.T),axis=1)])"
      ],
      "execution_count": 23,
      "outputs": [
        {
          "output_type": "stream",
          "text": [
            "[array([[0.31982779, 0.41268151, 0.17360288, 0.03049345],\n",
            "       [0.20833195, 0.62180124, 0.1011226 , 0.20278983],\n",
            "       [0.97118831, 0.09023065, 0.06936951, 0.51420953]])]\n"
          ],
          "name": "stdout"
        }
      ]
    },
    {
      "cell_type": "code",
      "metadata": {
        "id": "juO7GMauUC2s",
        "colab_type": "code",
        "colab": {}
      },
      "source": [
        ""
      ],
      "execution_count": 0,
      "outputs": []
    }
  ]
}