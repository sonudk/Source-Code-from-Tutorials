{
  "nbformat": 4,
  "nbformat_minor": 0,
  "metadata": {
    "colab": {
      "name": "pandas_dataframe_tutorial",
      "version": "0.3.2",
      "provenance": [],
      "collapsed_sections": [],
      "toc_visible": true,
      "include_colab_link": true
    },
    "kernelspec": {
      "name": "python3",
      "display_name": "Python 3"
    }
  },
  "cells": [
    {
      "cell_type": "markdown",
      "metadata": {
        "id": "view-in-github",
        "colab_type": "text"
      },
      "source": [
        "<a href=\"https://colab.research.google.com/github/sonudk/Source-Code-from-Tutorials/blob/master/pandas_dataframe_tutorial.ipynb\" target=\"_parent\"><img src=\"https://colab.research.google.com/assets/colab-badge.svg\" alt=\"Open In Colab\"/></a>"
      ]
    },
    {
      "cell_type": "code",
      "metadata": {
        "id": "ggsmFikMLRqy",
        "colab_type": "code",
        "colab": {}
      },
      "source": [
        "import pandas as pd"
      ],
      "execution_count": 0,
      "outputs": []
    },
    {
      "cell_type": "code",
      "metadata": {
        "id": "GTpXadQwLn0C",
        "colab_type": "code",
        "colab": {}
      },
      "source": [
        "# manually entering data in pandas\n",
        "import os"
      ],
      "execution_count": 0,
      "outputs": []
    },
    {
      "cell_type": "code",
      "metadata": {
        "id": "xGOi7hVeMYLd",
        "colab_type": "code",
        "colab": {}
      },
      "source": [
        "# this dataframe can be created using dict\n",
        "manual_dataframe=pd.DataFrame(\n",
        "    {\n",
        "    \"S.N.\":[1,2,3,4,5],\n",
        "    \"Roll No\":[170735,170736,170737,170738,170739],\n",
        "    \"Name\":[\"Sunil\",\"Manish\",\"Keshav\",\"Jeetu\",\"Jivnesh\"],\n",
        "    \"Seniority\":[-100,100,200,300,400]\n",
        "    }\n",
        ")\n"
      ],
      "execution_count": 0,
      "outputs": []
    },
    {
      "cell_type": "code",
      "metadata": {
        "id": "c_HSC9v1NuDV",
        "colab_type": "code",
        "outputId": "6709c98d-3d58-42ea-98aa-d200531778cd",
        "colab": {
          "base_uri": "https://localhost:8080/",
          "height": 204
        }
      },
      "source": [
        "manual_dataframe"
      ],
      "execution_count": 5,
      "outputs": [
        {
          "output_type": "execute_result",
          "data": {
            "text/html": [
              "<div>\n",
              "<style scoped>\n",
              "    .dataframe tbody tr th:only-of-type {\n",
              "        vertical-align: middle;\n",
              "    }\n",
              "\n",
              "    .dataframe tbody tr th {\n",
              "        vertical-align: top;\n",
              "    }\n",
              "\n",
              "    .dataframe thead th {\n",
              "        text-align: right;\n",
              "    }\n",
              "</style>\n",
              "<table border=\"1\" class=\"dataframe\">\n",
              "  <thead>\n",
              "    <tr style=\"text-align: right;\">\n",
              "      <th></th>\n",
              "      <th>S.N.</th>\n",
              "      <th>Roll No</th>\n",
              "      <th>Name</th>\n",
              "      <th>Seniority</th>\n",
              "    </tr>\n",
              "  </thead>\n",
              "  <tbody>\n",
              "    <tr>\n",
              "      <th>0</th>\n",
              "      <td>1</td>\n",
              "      <td>170735</td>\n",
              "      <td>Sunil</td>\n",
              "      <td>-100</td>\n",
              "    </tr>\n",
              "    <tr>\n",
              "      <th>1</th>\n",
              "      <td>2</td>\n",
              "      <td>170736</td>\n",
              "      <td>Manish</td>\n",
              "      <td>100</td>\n",
              "    </tr>\n",
              "    <tr>\n",
              "      <th>2</th>\n",
              "      <td>3</td>\n",
              "      <td>170737</td>\n",
              "      <td>Keshav</td>\n",
              "      <td>200</td>\n",
              "    </tr>\n",
              "    <tr>\n",
              "      <th>3</th>\n",
              "      <td>4</td>\n",
              "      <td>170738</td>\n",
              "      <td>Jeetu</td>\n",
              "      <td>300</td>\n",
              "    </tr>\n",
              "    <tr>\n",
              "      <th>4</th>\n",
              "      <td>5</td>\n",
              "      <td>170739</td>\n",
              "      <td>Jivnesh</td>\n",
              "      <td>400</td>\n",
              "    </tr>\n",
              "  </tbody>\n",
              "</table>\n",
              "</div>"
            ],
            "text/plain": [
              "   S.N.  Roll No     Name  Seniority\n",
              "0     1   170735    Sunil       -100\n",
              "1     2   170736   Manish        100\n",
              "2     3   170737   Keshav        200\n",
              "3     4   170738    Jeetu        300\n",
              "4     5   170739  Jivnesh        400"
            ]
          },
          "metadata": {
            "tags": []
          },
          "execution_count": 5
        }
      ]
    },
    {
      "cell_type": "code",
      "metadata": {
        "id": "FPSAojwtORGs",
        "colab_type": "code",
        "colab": {
          "base_uri": "https://localhost:8080/",
          "height": 374
        },
        "outputId": "ac589b0b-d2f5-4f40-ef01-5a197475a1a4"
      },
      "source": [
        "data=pd.read_csv(\"train.csv\")"
      ],
      "execution_count": 6,
      "outputs": [
        {
          "output_type": "error",
          "ename": "FileNotFoundError",
          "evalue": "ignored",
          "traceback": [
            "\u001b[0;31m---------------------------------------------------------------------------\u001b[0m",
            "\u001b[0;31mFileNotFoundError\u001b[0m                         Traceback (most recent call last)",
            "\u001b[0;32m<ipython-input-6-1bcf2661f6f5>\u001b[0m in \u001b[0;36m<module>\u001b[0;34m()\u001b[0m\n\u001b[0;32m----> 1\u001b[0;31m \u001b[0mdata\u001b[0m\u001b[0;34m=\u001b[0m\u001b[0mpd\u001b[0m\u001b[0;34m.\u001b[0m\u001b[0mread_csv\u001b[0m\u001b[0;34m(\u001b[0m\u001b[0;34m\"train.csv\"\u001b[0m\u001b[0;34m)\u001b[0m\u001b[0;34m\u001b[0m\u001b[0;34m\u001b[0m\u001b[0m\n\u001b[0m",
            "\u001b[0;32m/usr/local/lib/python3.6/dist-packages/pandas/io/parsers.py\u001b[0m in \u001b[0;36mparser_f\u001b[0;34m(filepath_or_buffer, sep, delimiter, header, names, index_col, usecols, squeeze, prefix, mangle_dupe_cols, dtype, engine, converters, true_values, false_values, skipinitialspace, skiprows, skipfooter, nrows, na_values, keep_default_na, na_filter, verbose, skip_blank_lines, parse_dates, infer_datetime_format, keep_date_col, date_parser, dayfirst, iterator, chunksize, compression, thousands, decimal, lineterminator, quotechar, quoting, doublequote, escapechar, comment, encoding, dialect, tupleize_cols, error_bad_lines, warn_bad_lines, delim_whitespace, low_memory, memory_map, float_precision)\u001b[0m\n\u001b[1;32m    700\u001b[0m                     skip_blank_lines=skip_blank_lines)\n\u001b[1;32m    701\u001b[0m \u001b[0;34m\u001b[0m\u001b[0m\n\u001b[0;32m--> 702\u001b[0;31m         \u001b[0;32mreturn\u001b[0m \u001b[0m_read\u001b[0m\u001b[0;34m(\u001b[0m\u001b[0mfilepath_or_buffer\u001b[0m\u001b[0;34m,\u001b[0m \u001b[0mkwds\u001b[0m\u001b[0;34m)\u001b[0m\u001b[0;34m\u001b[0m\u001b[0;34m\u001b[0m\u001b[0m\n\u001b[0m\u001b[1;32m    703\u001b[0m \u001b[0;34m\u001b[0m\u001b[0m\n\u001b[1;32m    704\u001b[0m     \u001b[0mparser_f\u001b[0m\u001b[0;34m.\u001b[0m\u001b[0m__name__\u001b[0m \u001b[0;34m=\u001b[0m \u001b[0mname\u001b[0m\u001b[0;34m\u001b[0m\u001b[0;34m\u001b[0m\u001b[0m\n",
            "\u001b[0;32m/usr/local/lib/python3.6/dist-packages/pandas/io/parsers.py\u001b[0m in \u001b[0;36m_read\u001b[0;34m(filepath_or_buffer, kwds)\u001b[0m\n\u001b[1;32m    427\u001b[0m \u001b[0;34m\u001b[0m\u001b[0m\n\u001b[1;32m    428\u001b[0m     \u001b[0;31m# Create the parser.\u001b[0m\u001b[0;34m\u001b[0m\u001b[0;34m\u001b[0m\u001b[0;34m\u001b[0m\u001b[0m\n\u001b[0;32m--> 429\u001b[0;31m     \u001b[0mparser\u001b[0m \u001b[0;34m=\u001b[0m \u001b[0mTextFileReader\u001b[0m\u001b[0;34m(\u001b[0m\u001b[0mfilepath_or_buffer\u001b[0m\u001b[0;34m,\u001b[0m \u001b[0;34m**\u001b[0m\u001b[0mkwds\u001b[0m\u001b[0;34m)\u001b[0m\u001b[0;34m\u001b[0m\u001b[0;34m\u001b[0m\u001b[0m\n\u001b[0m\u001b[1;32m    430\u001b[0m \u001b[0;34m\u001b[0m\u001b[0m\n\u001b[1;32m    431\u001b[0m     \u001b[0;32mif\u001b[0m \u001b[0mchunksize\u001b[0m \u001b[0;32mor\u001b[0m \u001b[0miterator\u001b[0m\u001b[0;34m:\u001b[0m\u001b[0;34m\u001b[0m\u001b[0;34m\u001b[0m\u001b[0m\n",
            "\u001b[0;32m/usr/local/lib/python3.6/dist-packages/pandas/io/parsers.py\u001b[0m in \u001b[0;36m__init__\u001b[0;34m(self, f, engine, **kwds)\u001b[0m\n\u001b[1;32m    893\u001b[0m             \u001b[0mself\u001b[0m\u001b[0;34m.\u001b[0m\u001b[0moptions\u001b[0m\u001b[0;34m[\u001b[0m\u001b[0;34m'has_index_names'\u001b[0m\u001b[0;34m]\u001b[0m \u001b[0;34m=\u001b[0m \u001b[0mkwds\u001b[0m\u001b[0;34m[\u001b[0m\u001b[0;34m'has_index_names'\u001b[0m\u001b[0;34m]\u001b[0m\u001b[0;34m\u001b[0m\u001b[0;34m\u001b[0m\u001b[0m\n\u001b[1;32m    894\u001b[0m \u001b[0;34m\u001b[0m\u001b[0m\n\u001b[0;32m--> 895\u001b[0;31m         \u001b[0mself\u001b[0m\u001b[0;34m.\u001b[0m\u001b[0m_make_engine\u001b[0m\u001b[0;34m(\u001b[0m\u001b[0mself\u001b[0m\u001b[0;34m.\u001b[0m\u001b[0mengine\u001b[0m\u001b[0;34m)\u001b[0m\u001b[0;34m\u001b[0m\u001b[0;34m\u001b[0m\u001b[0m\n\u001b[0m\u001b[1;32m    896\u001b[0m \u001b[0;34m\u001b[0m\u001b[0m\n\u001b[1;32m    897\u001b[0m     \u001b[0;32mdef\u001b[0m \u001b[0mclose\u001b[0m\u001b[0;34m(\u001b[0m\u001b[0mself\u001b[0m\u001b[0;34m)\u001b[0m\u001b[0;34m:\u001b[0m\u001b[0;34m\u001b[0m\u001b[0;34m\u001b[0m\u001b[0m\n",
            "\u001b[0;32m/usr/local/lib/python3.6/dist-packages/pandas/io/parsers.py\u001b[0m in \u001b[0;36m_make_engine\u001b[0;34m(self, engine)\u001b[0m\n\u001b[1;32m   1120\u001b[0m     \u001b[0;32mdef\u001b[0m \u001b[0m_make_engine\u001b[0m\u001b[0;34m(\u001b[0m\u001b[0mself\u001b[0m\u001b[0;34m,\u001b[0m \u001b[0mengine\u001b[0m\u001b[0;34m=\u001b[0m\u001b[0;34m'c'\u001b[0m\u001b[0;34m)\u001b[0m\u001b[0;34m:\u001b[0m\u001b[0;34m\u001b[0m\u001b[0;34m\u001b[0m\u001b[0m\n\u001b[1;32m   1121\u001b[0m         \u001b[0;32mif\u001b[0m \u001b[0mengine\u001b[0m \u001b[0;34m==\u001b[0m \u001b[0;34m'c'\u001b[0m\u001b[0;34m:\u001b[0m\u001b[0;34m\u001b[0m\u001b[0;34m\u001b[0m\u001b[0m\n\u001b[0;32m-> 1122\u001b[0;31m             \u001b[0mself\u001b[0m\u001b[0;34m.\u001b[0m\u001b[0m_engine\u001b[0m \u001b[0;34m=\u001b[0m \u001b[0mCParserWrapper\u001b[0m\u001b[0;34m(\u001b[0m\u001b[0mself\u001b[0m\u001b[0;34m.\u001b[0m\u001b[0mf\u001b[0m\u001b[0;34m,\u001b[0m \u001b[0;34m**\u001b[0m\u001b[0mself\u001b[0m\u001b[0;34m.\u001b[0m\u001b[0moptions\u001b[0m\u001b[0;34m)\u001b[0m\u001b[0;34m\u001b[0m\u001b[0;34m\u001b[0m\u001b[0m\n\u001b[0m\u001b[1;32m   1123\u001b[0m         \u001b[0;32melse\u001b[0m\u001b[0;34m:\u001b[0m\u001b[0;34m\u001b[0m\u001b[0;34m\u001b[0m\u001b[0m\n\u001b[1;32m   1124\u001b[0m             \u001b[0;32mif\u001b[0m \u001b[0mengine\u001b[0m \u001b[0;34m==\u001b[0m \u001b[0;34m'python'\u001b[0m\u001b[0;34m:\u001b[0m\u001b[0;34m\u001b[0m\u001b[0;34m\u001b[0m\u001b[0m\n",
            "\u001b[0;32m/usr/local/lib/python3.6/dist-packages/pandas/io/parsers.py\u001b[0m in \u001b[0;36m__init__\u001b[0;34m(self, src, **kwds)\u001b[0m\n\u001b[1;32m   1851\u001b[0m         \u001b[0mkwds\u001b[0m\u001b[0;34m[\u001b[0m\u001b[0;34m'usecols'\u001b[0m\u001b[0;34m]\u001b[0m \u001b[0;34m=\u001b[0m \u001b[0mself\u001b[0m\u001b[0;34m.\u001b[0m\u001b[0musecols\u001b[0m\u001b[0;34m\u001b[0m\u001b[0;34m\u001b[0m\u001b[0m\n\u001b[1;32m   1852\u001b[0m \u001b[0;34m\u001b[0m\u001b[0m\n\u001b[0;32m-> 1853\u001b[0;31m         \u001b[0mself\u001b[0m\u001b[0;34m.\u001b[0m\u001b[0m_reader\u001b[0m \u001b[0;34m=\u001b[0m \u001b[0mparsers\u001b[0m\u001b[0;34m.\u001b[0m\u001b[0mTextReader\u001b[0m\u001b[0;34m(\u001b[0m\u001b[0msrc\u001b[0m\u001b[0;34m,\u001b[0m \u001b[0;34m**\u001b[0m\u001b[0mkwds\u001b[0m\u001b[0;34m)\u001b[0m\u001b[0;34m\u001b[0m\u001b[0;34m\u001b[0m\u001b[0m\n\u001b[0m\u001b[1;32m   1854\u001b[0m         \u001b[0mself\u001b[0m\u001b[0;34m.\u001b[0m\u001b[0munnamed_cols\u001b[0m \u001b[0;34m=\u001b[0m \u001b[0mself\u001b[0m\u001b[0;34m.\u001b[0m\u001b[0m_reader\u001b[0m\u001b[0;34m.\u001b[0m\u001b[0munnamed_cols\u001b[0m\u001b[0;34m\u001b[0m\u001b[0;34m\u001b[0m\u001b[0m\n\u001b[1;32m   1855\u001b[0m \u001b[0;34m\u001b[0m\u001b[0m\n",
            "\u001b[0;32mpandas/_libs/parsers.pyx\u001b[0m in \u001b[0;36mpandas._libs.parsers.TextReader.__cinit__\u001b[0;34m()\u001b[0m\n",
            "\u001b[0;32mpandas/_libs/parsers.pyx\u001b[0m in \u001b[0;36mpandas._libs.parsers.TextReader._setup_parser_source\u001b[0;34m()\u001b[0m\n",
            "\u001b[0;31mFileNotFoundError\u001b[0m: [Errno 2] File b'train.csv' does not exist: b'train.csv'"
          ]
        }
      ]
    },
    {
      "cell_type": "code",
      "metadata": {
        "id": "rS-mKfVQQQ96",
        "colab_type": "code",
        "colab": {}
      },
      "source": [
        "data"
      ],
      "execution_count": 0,
      "outputs": []
    },
    {
      "cell_type": "code",
      "metadata": {
        "id": "-Y7bgrZjUQcw",
        "colab_type": "code",
        "colab": {}
      },
      "source": [
        "data.head(9)"
      ],
      "execution_count": 0,
      "outputs": []
    },
    {
      "cell_type": "code",
      "metadata": {
        "id": "5hLbIQAjUuvw",
        "colab_type": "code",
        "colab": {}
      },
      "source": [
        "data.tail(12)"
      ],
      "execution_count": 0,
      "outputs": []
    },
    {
      "cell_type": "code",
      "metadata": {
        "id": "mb8m05iMUwsY",
        "colab_type": "code",
        "colab": {}
      },
      "source": [
        "pd.options.display.max_rows\n",
        "data"
      ],
      "execution_count": 0,
      "outputs": []
    },
    {
      "cell_type": "code",
      "metadata": {
        "id": "zozsS_DMVApl",
        "colab_type": "code",
        "colab": {}
      },
      "source": [
        "pd.options.display.max_columns\n",
        "data"
      ],
      "execution_count": 0,
      "outputs": []
    },
    {
      "cell_type": "code",
      "metadata": {
        "id": "zPjnY1dgVIjj",
        "colab_type": "code",
        "colab": {}
      },
      "source": [
        "# how to make more costmable table in pandas using below code\n",
        "# pd.options.display.XX = 1"
      ],
      "execution_count": 0,
      "outputs": []
    },
    {
      "cell_type": "code",
      "metadata": {
        "id": "8BxwVJBvVfLR",
        "colab_type": "code",
        "colab": {}
      },
      "source": [
        "# this is used to get data type of all columns\n",
        "'''\n",
        "See the data types of each column in your dataframe using the .dtypes property. Notes that character/string columns appear as ‘object’ datatypes.'''\n",
        "data.dtypes"
      ],
      "execution_count": 0,
      "outputs": []
    },
    {
      "cell_type": "code",
      "metadata": {
        "id": "qaM9kR3zV5XX",
        "colab_type": "code",
        "colab": {}
      },
      "source": [
        "#To change the datatype of a specific column, use the .astype() function. For example, to see the ‘Age’ column as a string, use:\n",
        "data['Pclass'].astype(str)"
      ],
      "execution_count": 0,
      "outputs": []
    },
    {
      "cell_type": "code",
      "metadata": {
        "id": "vG8rGnUmXOoG",
        "colab_type": "code",
        "colab": {}
      },
      "source": [
        "#type(data['Age'])"
      ],
      "execution_count": 0,
      "outputs": []
    },
    {
      "cell_type": "code",
      "metadata": {
        "id": "nEiZYs7CW3_k",
        "colab_type": "code",
        "colab": {}
      },
      "source": [
        "data.dtypes\n",
        "# Doubt why still Age is shown int64 rather then object "
      ],
      "execution_count": 0,
      "outputs": []
    },
    {
      "cell_type": "markdown",
      "metadata": {
        "id": "-5rHDQAjX8mw",
        "colab_type": "text"
      },
      "source": [
        "Finally, to see some of the core statistics about a particular column, you can use the ‘describe‘ function.\n",
        "\n",
        "For numeric columns, describe() returns basic statistics: the value count, mean, standard deviation, minimum, maximum, and 25th, 50th, and 75th quantiles for the data in a column.\n",
        "\n",
        "*Note that if describe is called on the entire DataFrame, statistics only for the columns with numeric datatypes are returned, and in DataFrame format.*\n"
      ]
    },
    {
      "cell_type": "code",
      "metadata": {
        "id": "ArcOk_4BW7Wi",
        "colab_type": "code",
        "colab": {}
      },
      "source": [
        "data.describe()"
      ],
      "execution_count": 0,
      "outputs": []
    },
    {
      "cell_type": "markdown",
      "metadata": {
        "id": "YvM_7NYPYJL4",
        "colab_type": "text"
      },
      "source": [
        "For string columns, describe() returns the value count, the number of unique entries, the most frequently occurring value (‘top’), and the number of times the top value occurs (‘freq’)"
      ]
    },
    {
      "cell_type": "code",
      "metadata": {
        "id": "ELPEFt-XXwD5",
        "colab_type": "code",
        "colab": {}
      },
      "source": [
        "data[\"Sex\"].describe()"
      ],
      "execution_count": 0,
      "outputs": []
    },
    {
      "cell_type": "markdown",
      "metadata": {
        "id": "eKeESkjDYnjN",
        "colab_type": "text"
      },
      "source": [
        "# Selecting and Manipulating Data"
      ]
    },
    {
      "cell_type": "markdown",
      "metadata": {
        "id": "mxIseRNoYrDA",
        "colab_type": "text"
      },
      "source": [
        "Selecting Columns"
      ]
    },
    {
      "cell_type": "code",
      "metadata": {
        "id": "h8yppen8Xzuc",
        "colab_type": "code",
        "colab": {}
      },
      "source": [
        "# using col name\n",
        "data.Age.head()"
      ],
      "execution_count": 0,
      "outputs": []
    },
    {
      "cell_type": "code",
      "metadata": {
        "id": "NdvJX0tfZE_w",
        "colab_type": "code",
        "colab": {}
      },
      "source": [
        "# using col name in box\n",
        "data[\"Age\"].head(12)"
      ],
      "execution_count": 0,
      "outputs": []
    },
    {
      "cell_type": "code",
      "metadata": {
        "id": "FNwT-auEZV_3",
        "colab_type": "code",
        "colab": {}
      },
      "source": [
        "# using numeric indexing and the iloc selector \n",
        "data.iloc[:,5].head()"
      ],
      "execution_count": 0,
      "outputs": []
    },
    {
      "cell_type": "markdown",
      "metadata": {
        "id": "EPjPAK3Ma_S5",
        "colab_type": "text"
      },
      "source": [
        "When a column is selected using any of these methodologies, a pandas.Series is the resulting datatype. A pandas series is a one-dimensional set of data. It’s useful to know the basic operations that can be carried out on these Series of data, including summing (.sum()), averaging (.mean()), counting (.count()), getting the median (.median()), and replacing missing values (.fillna(new_value))."
      ]
    },
    {
      "cell_type": "code",
      "metadata": {
        "id": "sfbimWP7Zqns",
        "colab_type": "code",
        "colab": {}
      },
      "source": [
        "data.Sex.count()"
      ],
      "execution_count": 0,
      "outputs": []
    },
    {
      "cell_type": "code",
      "metadata": {
        "id": "qZwO3VlbbGdu",
        "colab_type": "code",
        "colab": {}
      },
      "source": [
        "data.Age.nunique()"
      ],
      "execution_count": 0,
      "outputs": []
    },
    {
      "cell_type": "code",
      "metadata": {
        "id": "MlwbAjCVbmT1",
        "colab_type": "code",
        "colab": {}
      },
      "source": [
        "data.Fare.min(),data.Fare.max(),data.Fare.median()"
      ],
      "execution_count": 0,
      "outputs": []
    },
    {
      "cell_type": "markdown",
      "metadata": {
        "id": "zNcX6r_UcRk6",
        "colab_type": "text"
      },
      "source": [
        "Selecting multiple columns at the same time extracts a new DataFrame from your existing DataFrame. For selection of multiple columns, the syntax is:\n",
        "\n",
        "square-brace selection with a list of column names, e.g. data[['column_name_1', 'column_name_2']]\n",
        "\n",
        "using numeric indexing with the iloc selector and a list of column numbers, e.g. data.iloc[:, [0,1,20,22]]"
      ]
    },
    {
      "cell_type": "code",
      "metadata": {
        "id": "L7ov2pgDb5Pm",
        "colab_type": "code",
        "colab": {}
      },
      "source": [
        "data[['Age','Survived']].head(6)"
      ],
      "execution_count": 0,
      "outputs": []
    },
    {
      "cell_type": "code",
      "metadata": {
        "id": "blZBPM5jceoW",
        "colab_type": "code",
        "colab": {}
      },
      "source": [
        "data.iloc[:,[2,3,10,7]].tail(4)"
      ],
      "execution_count": 0,
      "outputs": []
    },
    {
      "cell_type": "markdown",
      "metadata": {
        "id": "HCCzNZjmdmza",
        "colab_type": "text"
      },
      "source": [
        "**Selecting Rows**\n",
        "\n",
        "Rows in a DataFrame are selected, typically, using the iloc/loc selection methods, or using logical selectors (selecting based on the value of another column or variable).\n",
        "\n",
        "The basic methods to get your heads around are:\n",
        "\n",
        "numeric row selection using the iloc selector, e.g. data.iloc[0:10, :] – select the first 10 rows.\n",
        "\n",
        "label-based row selection using the loc selector (this is only applicably if you have set an “index” on your dataframe. e.g. data.loc[44, :]\n",
        "logical-based row selection using evaluated statements, e.g. data[data[\"Area\"] == \"Ireland\"] – select the rows where Area value is ‘Ireland’.\n",
        "\n",
        "Note that you can combine the selection methods for columns and rows in many ways to achieve the selection of your dreams. For details, please refer to the post “Using iloc, loc, and ix to select and index data\""
      ]
    },
    {
      "cell_type": "code",
      "metadata": {
        "id": "5tQUne1Fc5Ii",
        "colab_type": "code",
        "colab": {}
      },
      "source": [
        "# to select one row\n",
        "(data.iloc[2,:])\n",
        "# using loc to do the same task\n",
        "(data.loc[34,:])\n",
        "# for a range of rows\n",
        "data.iloc[3:10,:]"
      ],
      "execution_count": 0,
      "outputs": []
    },
    {
      "cell_type": "code",
      "metadata": {
        "id": "eca7m5bdeBCD",
        "colab_type": "code",
        "colab": {}
      },
      "source": [
        "data.loc[23:]"
      ],
      "execution_count": 0,
      "outputs": []
    },
    {
      "cell_type": "code",
      "metadata": {
        "id": "C9mimQqKf3JF",
        "colab_type": "code",
        "colab": {}
      },
      "source": [
        "# to selected row in that our specified entry comes\n",
        "#please be careful in syntex of it\n",
        "print(data[data[\"Ticket\"]==2651])"
      ],
      "execution_count": 0,
      "outputs": []
    },
    {
      "cell_type": "markdown",
      "metadata": {
        "id": "UxUwgIweiFZh",
        "colab_type": "text"
      },
      "source": [
        "![alt text](https://shanelynnwebsite-mid9n9g1q9y8tt.netdna-ssl.com/wp-content/uploads/2016/10/Pandas-selections-and-indexing-768x549.png)"
      ]
    },
    {
      "cell_type": "code",
      "metadata": {
        "id": "kFXFyVAYf-4R",
        "colab_type": "code",
        "colab": {}
      },
      "source": [
        "data.iloc[[1,2,3],[1,9]]"
      ],
      "execution_count": 0,
      "outputs": []
    },
    {
      "cell_type": "code",
      "metadata": {
        "id": "YFEYKu8Mictv",
        "colab_type": "code",
        "colab": {}
      },
      "source": [
        "data.iloc[3,8]"
      ],
      "execution_count": 0,
      "outputs": []
    },
    {
      "cell_type": "code",
      "metadata": {
        "id": "f89yicQkimPw",
        "colab_type": "code",
        "colab": {}
      },
      "source": [
        "data.iloc[2:7,3:8]# in this case don't give square box "
      ],
      "execution_count": 0,
      "outputs": []
    },
    {
      "cell_type": "markdown",
      "metadata": {
        "id": "SvuFpRMckPrq",
        "colab_type": "text"
      },
      "source": [
        "Deleting rows and columns (drop)\n",
        "\n",
        "To delete rows and columns from DataFrames, Pandas uses the “drop” function.\n",
        "\n",
        "To delete a column, or multiple columns, use the name of the column(s), and specify the “axis” as 1. Alternatively, as in the example below, the ‘columns’ parameter has been added in Pandas which cuts out the need for ‘axis’. The drop function returns a new DataFrame, with the columns removed. To actually edit the original DataFrame, the “inplace” parameter can be set to True, and there is no returned value.\n",
        "\n"
      ]
    },
    {
      "cell_type": "code",
      "metadata": {
        "id": "Gks1FJbMjKGm",
        "colab_type": "code",
        "colab": {}
      },
      "source": [
        "data=data.drop(\"Age\",axis=1)"
      ],
      "execution_count": 0,
      "outputs": []
    },
    {
      "cell_type": "code",
      "metadata": {
        "id": "hjtRqPgskr8K",
        "colab_type": "code",
        "colab": {}
      },
      "source": [
        "data=data.drop(columns='Fare')"
      ],
      "execution_count": 0,
      "outputs": []
    },
    {
      "cell_type": "code",
      "metadata": {
        "id": "BclowfdNktDm",
        "colab_type": "code",
        "colab": {}
      },
      "source": [
        "# Delete the Ticket column from the dataframe in place\n",
        "# Note that the original 'data' object is changed when inplace=True\n",
        "data.drop(\"Ticket\",axis=1,inplace=True)"
      ],
      "execution_count": 0,
      "outputs": []
    },
    {
      "cell_type": "code",
      "metadata": {
        "id": "LxtIluKclD4z",
        "colab_type": "code",
        "colab": {}
      },
      "source": [
        "data"
      ],
      "execution_count": 0,
      "outputs": []
    },
    {
      "cell_type": "code",
      "metadata": {
        "id": "zVA2-R3TmemY",
        "colab_type": "code",
        "colab": {}
      },
      "source": [
        "data=data.drop(['Sex','Name'],axis=1)"
      ],
      "execution_count": 0,
      "outputs": []
    },
    {
      "cell_type": "code",
      "metadata": {
        "id": "9iyBWOt5podW",
        "colab_type": "code",
        "colab": {}
      },
      "source": [
        "data"
      ],
      "execution_count": 0,
      "outputs": []
    },
    {
      "cell_type": "code",
      "metadata": {
        "id": "Jl6EQOgVpzhw",
        "colab_type": "code",
        "colab": {}
      },
      "source": [
        "# we use axis=1 for dropping columns\n",
        "# we use axis=0 for dropping rows\n",
        "data=data.drop(23,axis=0)"
      ],
      "execution_count": 0,
      "outputs": []
    },
    {
      "cell_type": "code",
      "metadata": {
        "id": "TtMpGiS9qbYW",
        "colab_type": "code",
        "colab": {}
      },
      "source": [
        "data"
      ],
      "execution_count": 0,
      "outputs": []
    },
    {
      "cell_type": "code",
      "metadata": {
        "id": "TkCGS8OQqcNv",
        "colab_type": "code",
        "colab": {}
      },
      "source": [
        "data=data.drop(30,axis=0)\n",
        "data"
      ],
      "execution_count": 0,
      "outputs": []
    },
    {
      "cell_type": "code",
      "metadata": {
        "id": "wyLz3R-sqmw1",
        "colab_type": "code",
        "colab": {}
      },
      "source": [
        "## Again, the inplace parameter will change the dataframe without assignment\n",
        "data.drop(22,axis=0,inplace=True)"
      ],
      "execution_count": 0,
      "outputs": []
    },
    {
      "cell_type": "code",
      "metadata": {
        "id": "dNirHXTtqyPQ",
        "colab_type": "code",
        "colab": {}
      },
      "source": [
        "data"
      ],
      "execution_count": 0,
      "outputs": []
    },
    {
      "cell_type": "markdown",
      "metadata": {
        "id": "xskpfPazuc_b",
        "colab_type": "text"
      },
      "source": [
        "Rows can also be removed using the “drop” function, by specifying axis=0. Drop() removes rows based on “labels”, rather than numeric indexing. To delete rows based on their numeric position / index, use iloc to reassign the dataframe values, as in the examples below."
      ]
    },
    {
      "cell_type": "code",
      "metadata": {
        "id": "T2LvIFViq1dF",
        "colab_type": "code",
        "colab": {}
      },
      "source": [
        "#to remove multiple columns\n",
        "data=data.drop([24,65,89],axis=0)"
      ],
      "execution_count": 0,
      "outputs": []
    },
    {
      "cell_type": "code",
      "metadata": {
        "id": "yc_q9Aemq-EW",
        "colab_type": "code",
        "colab": {}
      },
      "source": [
        "data"
      ],
      "execution_count": 0,
      "outputs": []
    },
    {
      "cell_type": "code",
      "metadata": {
        "id": "aNq0vsiBq-9X",
        "colab_type": "code",
        "colab": {}
      },
      "source": [
        "# Delete the rows with label \"Ireland\"\n",
        "# For label-based deletion, set the index first on the dataframe:\n",
        "#data = data.set_index(\"Survived\")\n"
      ],
      "execution_count": 0,
      "outputs": []
    },
    {
      "cell_type": "code",
      "metadata": {
        "id": "--hsIdFasTrm",
        "colab_type": "code",
        "colab": {}
      },
      "source": [
        "# why this is showing syntex error\n",
        "#data.drop(\"E46\", axis=0,inplace=True). # Delete all rows with label \"Ireland\"\n",
        "# Delete the first five rows using iloc selector\n",
        "data = data.iloc[5:,]"
      ],
      "execution_count": 0,
      "outputs": []
    },
    {
      "cell_type": "code",
      "metadata": {
        "id": "DOKe-kqUtEwU",
        "colab_type": "code",
        "colab": {}
      },
      "source": [
        "data"
      ],
      "execution_count": 0,
      "outputs": []
    },
    {
      "cell_type": "code",
      "metadata": {
        "id": "4fdNfazCtbp8",
        "colab_type": "code",
        "colab": {}
      },
      "source": [
        "# I have problem in this case\n",
        "'''# Delete the rows with label \"Ireland\"\n",
        "# For label-based deletion, set the index first on the dataframe:\n",
        "data = data.set_index(\"Cabin\")\n",
        "data = data.drop(\"E46\", axis=0). # Delete all rows with label \"Ireland\"\n",
        "'''"
      ],
      "execution_count": 0,
      "outputs": []
    },
    {
      "cell_type": "markdown",
      "metadata": {
        "id": "-ofyRQK8vFrj",
        "colab_type": "text"
      },
      "source": [
        "Renaming columns\n",
        "\n",
        "Column renames are achieved easily in Pandas using the DataFrame rename function. The rename function is easy to use, and quite flexible. Rename columns in these two ways:\n",
        "\n",
        "Rename by mapping old names to new names using a dictionary, with form {“old_column_name”: “new_column_name”, …}\n",
        "\n",
        "Rename by providing a function to change the column names with. Functions are applied to every column name."
      ]
    },
    {
      "cell_type": "code",
      "metadata": {
        "id": "9G0J7zaWuv4N",
        "colab_type": "code",
        "colab": {}
      },
      "source": [
        "# again to avoid reassignment we use inline\n",
        "data.rename(columns={'PassengerId':'ID'},inplace=True)"
      ],
      "execution_count": 0,
      "outputs": []
    },
    {
      "cell_type": "code",
      "metadata": {
        "id": "dEjJFkEZvegz",
        "colab_type": "code",
        "colab": {}
      },
      "source": [
        "data"
      ],
      "execution_count": 0,
      "outputs": []
    },
    {
      "cell_type": "code",
      "metadata": {
        "id": "4Z5pCDOHwHCV",
        "colab_type": "code",
        "colab": {}
      },
      "source": [
        "# Rename multiple columns in one go with a larger dictionary\n",
        "# don't mess with syntex be careful it is the ever best advice\n",
        "data.rename(\n",
        "    columns={\n",
        "  'Survived':'Not Died',\n",
        "  'Cabin':'Box No'  \n",
        "},\n",
        "  inplace=True\n",
        ")"
      ],
      "execution_count": 0,
      "outputs": []
    },
    {
      "cell_type": "code",
      "metadata": {
        "id": "PtFsh2IJwdMf",
        "colab_type": "code",
        "colab": {}
      },
      "source": [
        "data"
      ],
      "execution_count": 0,
      "outputs": []
    },
    {
      "cell_type": "markdown",
      "metadata": {
        "id": "xqKlMjFUxE9o",
        "colab_type": "text"
      },
      "source": [
        "Rename all columns using a function, e.g. convert all column names to lower case:"
      ]
    },
    {
      "cell_type": "code",
      "metadata": {
        "id": "6EyOTzmNwpwK",
        "colab_type": "code",
        "colab": {}
      },
      "source": [
        "data.rename(columns=str.lower,inplace=True)"
      ],
      "execution_count": 0,
      "outputs": []
    },
    {
      "cell_type": "code",
      "metadata": {
        "id": "XdqDPP4oxM75",
        "colab_type": "code",
        "colab": {}
      },
      "source": [
        "data"
      ],
      "execution_count": 0,
      "outputs": []
    },
    {
      "cell_type": "code",
      "metadata": {
        "id": "afRDCSS3xN1O",
        "colab_type": "code",
        "colab": {}
      },
      "source": [
        "# also can do upper case \n",
        "data.rename(columns=str.upper,inplace=True)\n",
        "data"
      ],
      "execution_count": 0,
      "outputs": []
    },
    {
      "cell_type": "markdown",
      "metadata": {
        "id": "dOH-mfeFxhVb",
        "colab_type": "text"
      },
      "source": [
        "In many cases, I use a tidying function for column names to ensure a standard, camel-case format for variables names. When loading data from potentially unstructured data sets, it can be useful to remove spaces and lowercase all column names using a lambda (anonymous) function:"
      ]
    },
    {
      "cell_type": "code",
      "metadata": {
        "id": "jLI69ekJxZQJ",
        "colab_type": "code",
        "colab": {}
      },
      "source": [
        "# Quickly lowercase and camelcase all column names in a DataFrame\n",
        "'''data = pd.read_csv(\"/path/to/csv/file.csv\")\n",
        "data.rename(columns=lambda x: x.lower().replace(' ', '_'))'''"
      ],
      "execution_count": 0,
      "outputs": []
    },
    {
      "cell_type": "markdown",
      "metadata": {
        "id": "RfYv-WXeyODE",
        "colab_type": "text"
      },
      "source": [
        "# Exporting and Saving Pandas DataFrames\n",
        "\n",
        "After manipulation or calculations, saving your data back to CSV is the next step. Data output in Pandas is as simple as loading data.\n",
        "\n",
        "\n",
        "Two two functions you’ll need to know are to_csv to write a DataFrame to a CSV file, and to_excel to write DataFrame information to a Microsoft Excel file"
      ]
    },
    {
      "cell_type": "code",
      "metadata": {
        "id": "UHDAAPOTxpba",
        "colab_type": "code",
        "colab": {}
      },
      "source": [
        "# Output data to a CSV file\n",
        "# Typically, I don't want row numbers in my output file, hence index=False.\n",
        "# To avoid character issues, I typically use utf8 encoding for input/output.\n",
        "data.to_csv(\"pandas_dataframe_tutorial.csv\",index=False,encoding='utf-8')# Output data to an Excel file.\n",
        "# For the excel output to work, you may need to install the \"xlsxwriter\" package.\n",
        "data.to_excel(\"pandas_dataframe_tutorial.xlsx\",sheet_name='sheet 1',index=False)"
      ],
      "execution_count": 0,
      "outputs": []
    },
    {
      "cell_type": "markdown",
      "metadata": {
        "id": "7dj5fICRzLB4",
        "colab_type": "text"
      },
      "source": [
        "Additional useful functions\n",
        "# Grouping and aggregation of data\n",
        "As soon as you load data, you’ll want to group it by one value or another, and then run some calculations. There’s another post on this blog – Summarising, [Aggregating, and Grouping Data in Python Pandas](https://www.shanelynn.ie/summarising-aggregation-and-grouping-data-in-python-pandas/), that goes into extensive detail on this subject"
      ]
    },
    {
      "cell_type": "code",
      "metadata": {
        "id": "lU2wwWMVymN5",
        "colab_type": "code",
        "colab": {}
      },
      "source": [
        ""
      ],
      "execution_count": 0,
      "outputs": []
    },
    {
      "cell_type": "code",
      "metadata": {
        "id": "8zwFP95Hy4lC",
        "colab_type": "code",
        "colab": {}
      },
      "source": [
        ""
      ],
      "execution_count": 0,
      "outputs": []
    }
  ]
}