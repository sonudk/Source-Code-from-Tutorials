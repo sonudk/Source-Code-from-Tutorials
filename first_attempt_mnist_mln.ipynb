{
  "nbformat": 4,
  "nbformat_minor": 0,
  "metadata": {
    "colab": {
      "name": "Copy of mnist_mln.ipynb",
      "version": "0.3.2",
      "provenance": [],
      "collapsed_sections": [],
      "include_colab_link": true
    },
    "language_info": {
      "codemirror_mode": {
        "name": "ipython",
        "version": 3
      },
      "file_extension": ".py",
      "mimetype": "text/x-python",
      "name": "python",
      "nbconvert_exporter": "python",
      "pygments_lexer": "ipython3",
      "version": "3.6.8"
    },
    "kernelspec": {
      "display_name": "Python 3",
      "language": "python",
      "name": "python3"
    }
  },
  "cells": [
    {
      "cell_type": "markdown",
      "metadata": {
        "id": "view-in-github",
        "colab_type": "text"
      },
      "source": [
        "<a href=\"https://colab.research.google.com/github/sonudk/Source-Code-from-Tutorials/blob/master/first_attempt_mnist_mln.ipynb\" target=\"_parent\"><img src=\"https://colab.research.google.com/assets/colab-badge.svg\" alt=\"Open In Colab\"/></a>"
      ]
    },
    {
      "cell_type": "markdown",
      "metadata": {
        "id": "pynTgvZNM4eK",
        "colab_type": "text"
      },
      "source": [
        "# Classification of handwritten digits using Multi Layered Network"
      ]
    },
    {
      "cell_type": "markdown",
      "metadata": {
        "id": "_8gTtxjSM4eM",
        "colab_type": "text"
      },
      "source": [
        "# MNIST Dataset\n",
        "\n",
        "<img src=\"https://upload.wikimedia.org/wikipedia/commons/2/27/MnistExamples.png\" title=\"MNIST dataset\" align=\"center\"/>\n",
        "\n"
      ]
    },
    {
      "cell_type": "markdown",
      "metadata": {
        "id": "KJFN2y6uM4eN",
        "colab_type": "text"
      },
      "source": [
        "# Problem\n",
        "Classify handwritten digits from 0 - 9. <br>\n",
        "Each image is 28x28 pixels\n",
        "\n",
        "<img src=\"https://corochann.com/wp-content/uploads/2017/02/mnist_plot.png\" title=\"\" align=\"center\"/>\n"
      ]
    },
    {
      "cell_type": "markdown",
      "metadata": {
        "id": "vwEdsMtYM4eO",
        "colab_type": "text"
      },
      "source": [
        "# Understanding the data"
      ]
    },
    {
      "cell_type": "code",
      "metadata": {
        "id": "wsnr_QXkM4eP",
        "colab_type": "code",
        "outputId": "d8f86a3f-2830-4b70-c93e-afdb93411a19",
        "colab": {
          "base_uri": "https://localhost:8080/",
          "height": 85
        }
      },
      "source": [
        "# MNIST data is present in the keras library. Load the data using load_data function of mnist\n",
        "# Load the data into 4 variables - train_samples, train_labels, test_samples, test_labels\n",
        "from keras.datasets import mnist\n",
        "print(type(mnist))\n",
        "(train_samples, train_labels) ,(test_samples, test_labels) = mnist.load_data()\n",
        "import sklearn\n",
        "from sklearn.model_selection import train_test_split\n"
      ],
      "execution_count": 1,
      "outputs": [
        {
          "output_type": "stream",
          "text": [
            "Using TensorFlow backend.\n"
          ],
          "name": "stderr"
        },
        {
          "output_type": "stream",
          "text": [
            "<class 'module'>\n",
            "Downloading data from https://s3.amazonaws.com/img-datasets/mnist.npz\n",
            "11493376/11490434 [==============================] - 1s 0us/step\n"
          ],
          "name": "stdout"
        }
      ]
    },
    {
      "cell_type": "markdown",
      "metadata": {
        "id": "lqoYgwGJM4eY",
        "colab_type": "text"
      },
      "source": [
        "### Shape of Data"
      ]
    },
    {
      "cell_type": "code",
      "metadata": {
        "id": "bRljziY3M4eY",
        "colab_type": "code",
        "outputId": "f91a570b-9b60-4147-bec0-c4dd9e05bbc9",
        "colab": {
          "base_uri": "https://localhost:8080/",
          "height": 85
        }
      },
      "source": [
        "## Print and observe the shapes of the 4 variables - train_samples, train_labels, test_samples, test_labels\n",
        "print(train_samples.shape)\n",
        "print(test_samples.shape)\n",
        "print(train_labels.shape)\n",
        "print(test_labels.shape)\n",
        "#Your code here"
      ],
      "execution_count": 2,
      "outputs": [
        {
          "output_type": "stream",
          "text": [
            "(60000, 28, 28)\n",
            "(10000, 28, 28)\n",
            "(60000,)\n",
            "(10000,)\n"
          ],
          "name": "stdout"
        }
      ]
    },
    {
      "cell_type": "markdown",
      "metadata": {
        "id": "mcwq519xM4ec",
        "colab_type": "text"
      },
      "source": [
        "### Range of Values\n",
        "Look at the range of values"
      ]
    },
    {
      "cell_type": "code",
      "metadata": {
        "id": "AOkzxyu7M4ed",
        "colab_type": "code",
        "outputId": "ee00cdb0-d30c-4d8e-d950-276963932fe5",
        "colab": {
          "base_uri": "https://localhost:8080/",
          "height": 34
        }
      },
      "source": [
        "import numpy as np\n",
        "### Print max value of samples in train_samples\n",
        "\n",
        "# Your code here\n",
        "#print(train_samples[train_samples.argmax()])\n",
        "\n",
        "print(np.amax(train_samples))"
      ],
      "execution_count": 3,
      "outputs": [
        {
          "output_type": "stream",
          "text": [
            "255\n"
          ],
          "name": "stdout"
        }
      ]
    },
    {
      "cell_type": "code",
      "metadata": {
        "id": "SpOXorsOM4ef",
        "colab_type": "code",
        "outputId": "8497379b-f41a-436d-f5a2-2291f01524ad",
        "colab": {
          "base_uri": "https://localhost:8080/",
          "height": 34
        }
      },
      "source": [
        "### Print min values of samples in train_samples\n",
        "\n",
        "#Your code here\n",
        "#print(train_samples[train_samples.argmin()])\n",
        "print(np.amin(train_samples))# this is the way to get max element using numpy you also can write code for this\n"
      ],
      "execution_count": 4,
      "outputs": [
        {
          "output_type": "stream",
          "text": [
            "0\n"
          ],
          "name": "stdout"
        }
      ]
    },
    {
      "cell_type": "markdown",
      "metadata": {
        "id": "nwIlM6DWM4ei",
        "colab_type": "text"
      },
      "source": [
        "# Data Preparation"
      ]
    },
    {
      "cell_type": "markdown",
      "metadata": {
        "id": "CTv13J8pM4ei",
        "colab_type": "text"
      },
      "source": [
        "### Normalize inputs to (0, 1)"
      ]
    },
    {
      "cell_type": "code",
      "metadata": {
        "id": "m5oo7fLuM4ej",
        "colab_type": "code",
        "outputId": "4c6bdce8-96ce-4e13-c816-e1be34c1fbe9",
        "colab": {
          "base_uri": "https://localhost:8080/",
          "height": 34
        }
      },
      "source": [
        "# Convert data type of elements in train_samples and test_samples from uint8 to float32\n",
        "\n",
        "#Your Code here\n",
        "\n",
        "'''\n",
        "print(np.ndarray.__bases__)\n",
        "\n",
        "for i in range(28):\n",
        "  for j in range(28):\n",
        "    train_samples[i][j]=float(train_samples[i][j])\n",
        "    \n",
        "#train_samples=float(train_samples)\n",
        "train_samples.astype(float)\n",
        "for i in range(28):\n",
        "  for j in range(28):\n",
        "    train_samples[i][j]=train_samples[i][j].astype(float)\n",
        "print()\n",
        "print(type(train_samples))\n",
        "print(train_samples)print(train_samples.shape)\n",
        "print(train_samples[2])'''\n",
        "\n",
        "train_samples= np.ndarray.astype(train_samples,dtype=float)\n",
        "test_samples= np.ndarray.astype(test_samples,dtype=float)\n",
        "\n",
        "print(type(train_samples))\n",
        "train_samples_max=np.amax(train_samples)\n",
        "\n"
      ],
      "execution_count": 5,
      "outputs": [
        {
          "output_type": "stream",
          "text": [
            "<class 'numpy.ndarray'>\n"
          ],
          "name": "stdout"
        }
      ]
    },
    {
      "cell_type": "code",
      "metadata": {
        "id": "zcwM083VM4ep",
        "colab_type": "code",
        "outputId": "c2c1a2cf-06c8-4055-b545-3876b4743daf",
        "colab": {
          "base_uri": "https://localhost:8080/",
          "height": 34
        }
      },
      "source": [
        "# Normalize inputs to (0,1)\n",
        "# Divide train_samples and test_samples by max value of train_samples\n",
        "\n",
        "#Your code here\n",
        "# now the data type is float so we get float by using 255.0\n",
        "train_samples=train_samples/train_samples_max\n",
        "test_samples=test_samples/train_samples_max\n",
        "print(test_samples.shape)\n",
        "#print(test_samples[289])\n",
        "\n"
      ],
      "execution_count": 6,
      "outputs": [
        {
          "output_type": "stream",
          "text": [
            "(10000, 28, 28)\n"
          ],
          "name": "stdout"
        }
      ]
    },
    {
      "cell_type": "markdown",
      "metadata": {
        "id": "wAKKpFycM4ev",
        "colab_type": "text"
      },
      "source": [
        "### Convert outputs to 1-hot vectors"
      ]
    },
    {
      "cell_type": "code",
      "metadata": {
        "id": "XwcQnM_CM4ew",
        "colab_type": "code",
        "outputId": "fdb54072-f3f0-490a-9c63-5afa17e85ef1",
        "colab": {
          "base_uri": "https://localhost:8080/",
          "height": 122
        }
      },
      "source": [
        "# convert train_labels and test_labels to 1-hot encoding\n",
        "\n",
        "#Your code here\n",
        "'''print(test_labels)\n",
        "print(len(test_labels))\n",
        "print(test_labels.shape)\n",
        "\n",
        "print(train_labels)\n",
        "print(train_labels.shape)\n",
        "print(train_labels[234])\n",
        "\n",
        "\n",
        "train_labels_oneHot=np.zeros((10000,10))\n",
        "for i in range(10000):\n",
        "  train_labels_oneHot[i,train_labels[0,i]]=1\n",
        "print(train_labels)'''\n",
        "\n",
        "print(train_labels)\n",
        "print(train_labels.shape)\n",
        "train_labels_oneHot=np.zeros((60000,10))\n",
        "for i in range(60000):\n",
        "  train_labels_oneHot[i,train_labels[i]]=1\n",
        "print(train_labels_oneHot.shape)\n",
        "test_labels_oneHot=np.zeros((10000,10))\n",
        "for i in range(10000):\n",
        "  test_labels_oneHot[i,test_labels[i]]=1\n",
        "print(test_labels_oneHot.shape)\n",
        "'''print(train_labels[2])\n",
        "print(train_labels_oneHot[2])\n",
        "#for i in range(60000):\n",
        "assert np.all(train_labels_oneHot==train_labels)'''\n",
        "# to insure things are smooth we have to cross check"
      ],
      "execution_count": 7,
      "outputs": [
        {
          "output_type": "stream",
          "text": [
            "[5 0 4 ... 5 6 8]\n",
            "(60000,)\n",
            "(60000, 10)\n",
            "(10000, 10)\n"
          ],
          "name": "stdout"
        },
        {
          "output_type": "execute_result",
          "data": {
            "text/plain": [
              "'print(train_labels[2])\\nprint(train_labels_oneHot[2])\\n#for i in range(60000):\\nassert np.all(train_labels_oneHot==train_labels)'"
            ]
          },
          "metadata": {
            "tags": []
          },
          "execution_count": 7
        }
      ]
    },
    {
      "cell_type": "markdown",
      "metadata": {
        "id": "K7cVVbo0M4ez",
        "colab_type": "text"
      },
      "source": [
        "# Network Architecture"
      ]
    },
    {
      "cell_type": "code",
      "metadata": {
        "id": "pJLP4vLBM4e1",
        "colab_type": "code",
        "outputId": "6aaa0eeb-e6d2-4cb4-d899-03985e2c55d5",
        "colab": {
          "base_uri": "https://localhost:8080/",
          "height": 68
        }
      },
      "source": [
        "\n",
        "## Input is currently in the shape (samples, height, width)\n",
        "## Reshape it such that it is suitable to be fed into a feed forward network\n",
        "## hint - shape should be (samples, ?)\n",
        "\n",
        "# Your code here\n",
        "print(test_samples.shape)\n",
        "train_samples=train_samples.transpose(2,0,1).reshape(60000,-1)\n",
        "print(train_samples.shape)\n",
        "test_samples=test_samples.transpose(2,0,1).reshape(10000,-1)\n",
        "print(test_samples.shape)\n",
        "\n"
      ],
      "execution_count": 8,
      "outputs": [
        {
          "output_type": "stream",
          "text": [
            "(10000, 28, 28)\n",
            "(60000, 784)\n",
            "(10000, 784)\n"
          ],
          "name": "stdout"
        }
      ]
    },
    {
      "cell_type": "code",
      "metadata": {
        "id": "tMoDdbp6M4e7",
        "colab_type": "code",
        "colab": {
          "base_uri": "https://localhost:8080/",
          "height": 88
        },
        "outputId": "a2f4f945-3cb3-4bf2-eb9c-8cf0fa9d1e35"
      },
      "source": [
        "# Layer definitions\n",
        "\n",
        "##Create a multi-layered neural network\n",
        "## 1st hidden layer with 512 neurons and 'relu' activation\n",
        "## 2nd hidden layer with 256 neurons and 'relu' activation\n",
        "## Output layer with softmax activation\n",
        "### Use Adam optimizer of keras\n",
        "### Categorical cross entropy is loss\n",
        "\n",
        "# Your code here\n",
        "from keras.layers import Input, Dense\n",
        "from keras.models import Sequential\n",
        "from keras import optimizers\n",
        "model=Sequential()\n",
        "model.add(Dense(512,input_dim=784,activation='relu'))\n",
        "model.add(Dense(256,activation='relu'))\n",
        "model.add(Dense(10,activation='softmax'))\n",
        "model.compile(loss='categorical_crossentropy',optimizer='adam',metrics=['accuracy'])\n"
      ],
      "execution_count": 9,
      "outputs": [
        {
          "output_type": "stream",
          "text": [
            "WARNING:tensorflow:From /usr/local/lib/python3.6/dist-packages/tensorflow/python/framework/op_def_library.py:263: colocate_with (from tensorflow.python.framework.ops) is deprecated and will be removed in a future version.\n",
            "Instructions for updating:\n",
            "Colocations handled automatically by placer.\n"
          ],
          "name": "stdout"
        }
      ]
    },
    {
      "cell_type": "code",
      "metadata": {
        "scrolled": true,
        "id": "5W5QSYPAM4fA",
        "colab_type": "code",
        "outputId": "c50ef832-d8df-4e36-c8bf-4d20d06364e6",
        "colab": {
          "base_uri": "https://localhost:8080/",
          "height": 238
        }
      },
      "source": [
        "### Print summary of model and check if it is as desired. Also check total number of parameters to be trained.\n",
        "\n",
        "#Your code here\n",
        "model.summary()"
      ],
      "execution_count": 10,
      "outputs": [
        {
          "output_type": "stream",
          "text": [
            "_________________________________________________________________\n",
            "Layer (type)                 Output Shape              Param #   \n",
            "=================================================================\n",
            "dense_1 (Dense)              (None, 512)               401920    \n",
            "_________________________________________________________________\n",
            "dense_2 (Dense)              (None, 256)               131328    \n",
            "_________________________________________________________________\n",
            "dense_3 (Dense)              (None, 10)                2570      \n",
            "=================================================================\n",
            "Total params: 535,818\n",
            "Trainable params: 535,818\n",
            "Non-trainable params: 0\n",
            "_________________________________________________________________\n"
          ],
          "name": "stdout"
        }
      ]
    },
    {
      "cell_type": "code",
      "metadata": {
        "scrolled": true,
        "id": "d8PFkTmRM4fG",
        "colab_type": "code",
        "outputId": "54c01a28-e437-48c5-84dd-a99eb19de885",
        "colab": {
          "base_uri": "https://localhost:8080/",
          "height": 785
        }
      },
      "source": [
        "### Fit the model on train samples. Play with different values of epochs and batch_size. \n",
        "### See which gives the optimal result in the least amount of time.\n",
        "model.fit(train_samples,train_labels_oneHot,epochs=20,batch_size=1000)\n"
      ],
      "execution_count": 11,
      "outputs": [
        {
          "output_type": "stream",
          "text": [
            "WARNING:tensorflow:From /usr/local/lib/python3.6/dist-packages/tensorflow/python/ops/math_ops.py:3066: to_int32 (from tensorflow.python.ops.math_ops) is deprecated and will be removed in a future version.\n",
            "Instructions for updating:\n",
            "Use tf.cast instead.\n",
            "Epoch 1/20\n",
            "60000/60000 [==============================] - 4s 60us/step - loss: 2.3089 - acc: 0.1059\n",
            "Epoch 2/20\n",
            "60000/60000 [==============================] - 4s 61us/step - loss: 2.2919 - acc: 0.1276\n",
            "Epoch 3/20\n",
            "60000/60000 [==============================] - 4s 60us/step - loss: 2.2736 - acc: 0.1470\n",
            "Epoch 4/20\n",
            "60000/60000 [==============================] - 4s 60us/step - loss: 2.2398 - acc: 0.1728\n",
            "Epoch 5/20\n",
            "60000/60000 [==============================] - 4s 61us/step - loss: 2.1808 - acc: 0.2057\n",
            "Epoch 6/20\n",
            "60000/60000 [==============================] - 4s 60us/step - loss: 2.0898 - acc: 0.2510\n",
            "Epoch 7/20\n",
            "60000/60000 [==============================] - 4s 60us/step - loss: 1.9635 - acc: 0.3038\n",
            "Epoch 8/20\n",
            "60000/60000 [==============================] - 4s 61us/step - loss: 1.8184 - acc: 0.3612\n",
            "Epoch 9/20\n",
            "60000/60000 [==============================] - 4s 60us/step - loss: 1.6602 - acc: 0.4215\n",
            "Epoch 10/20\n",
            "60000/60000 [==============================] - 4s 61us/step - loss: 1.5156 - acc: 0.4712\n",
            "Epoch 11/20\n",
            "60000/60000 [==============================] - 4s 61us/step - loss: 1.3809 - acc: 0.5220\n",
            "Epoch 12/20\n",
            "60000/60000 [==============================] - 4s 60us/step - loss: 1.2557 - acc: 0.5686\n",
            "Epoch 13/20\n",
            "60000/60000 [==============================] - 4s 60us/step - loss: 1.1549 - acc: 0.6037\n",
            "Epoch 14/20\n",
            "60000/60000 [==============================] - 4s 61us/step - loss: 1.0547 - acc: 0.6424\n",
            "Epoch 15/20\n",
            "60000/60000 [==============================] - 4s 60us/step - loss: 0.9789 - acc: 0.6688\n",
            "Epoch 16/20\n",
            "60000/60000 [==============================] - 4s 60us/step - loss: 0.9143 - acc: 0.6924\n",
            "Epoch 17/20\n",
            "60000/60000 [==============================] - 4s 61us/step - loss: 0.8518 - acc: 0.7137\n",
            "Epoch 18/20\n",
            "60000/60000 [==============================] - 4s 62us/step - loss: 0.8026 - acc: 0.7322\n",
            "Epoch 19/20\n",
            "60000/60000 [==============================] - 4s 61us/step - loss: 0.7682 - acc: 0.7411\n",
            "Epoch 20/20\n",
            "60000/60000 [==============================] - 4s 61us/step - loss: 0.7354 - acc: 0.7517\n"
          ],
          "name": "stdout"
        },
        {
          "output_type": "execute_result",
          "data": {
            "text/plain": [
              "<keras.callbacks.History at 0x7fb77d1d12b0>"
            ]
          },
          "metadata": {
            "tags": []
          },
          "execution_count": 11
        }
      ]
    },
    {
      "cell_type": "code",
      "metadata": {
        "id": "7KmgZH6zM4fL",
        "colab_type": "code",
        "colab": {
          "base_uri": "https://localhost:8080/",
          "height": 51
        },
        "outputId": "a606b758-8480-4761-a343-04fa3b7bc4d9"
      },
      "source": [
        "##Evaluate the model on test samples and print accuracy\n",
        "# why with batch size accuracy increase and with epochs Increases that is easy to get\n",
        "# Your code here\n",
        "# in above epochs case why accuracy is decreasing in each epoch\n",
        "loss,accuracy=model.evaluate(test_samples,test_labels_oneHot,verbose=0)\n",
        "import sklearn\n",
        "from sklearn.metrics import confusion_matrix\n",
        "predict_labels=model.predict(test_samples)\n",
        "print(predict_labels.shape)\n",
        "'''predict_labels_oneHot=np.zeros((10000,10))\n",
        "for i in range(10000):\n",
        "  predict_labels_oneHot[i,predict_labels[i]]=1\n",
        "print(predict_labels_oneHot.shape)'''\n",
        "print(test_labels_oneHot.shape)\n",
        "m=confusion_matrix(test_labels_oneHot.argmax(axis=1),predict_labels.argmax(axis=1))\n"
      ],
      "execution_count": 17,
      "outputs": [
        {
          "output_type": "stream",
          "text": [
            "(10000, 10)\n",
            "(10000, 10)\n"
          ],
          "name": "stdout"
        }
      ]
    },
    {
      "cell_type": "code",
      "metadata": {
        "id": "S7_e6OAaM4fQ",
        "colab_type": "code",
        "colab": {
          "base_uri": "https://localhost:8080/",
          "height": 204
        },
        "outputId": "2899d9d2-02ef-4cf9-a80d-81d0b8ff7c55"
      },
      "source": [
        "### Print confusion matrix\n",
        "\n",
        "# Your code here\n",
        "print(m)\n",
        "print('accuracy of model:%0.4f'%accuracy)"
      ],
      "execution_count": 19,
      "outputs": [
        {
          "output_type": "stream",
          "text": [
            "[[ 73  61  83  71 101  63  75 282  83  88]\n",
            " [ 75  80  90  68 148  81  72 337  98  86]\n",
            " [ 64  81  91  75 105  70  68 302  99  77]\n",
            " [ 74  72  86  62  88  64  67 315 106  76]\n",
            " [ 77  68  84  68  84  53  81 302  87  78]\n",
            " [ 47  70  72  57  99  48  78 261  91  69]\n",
            " [ 93  79  77  56 109  50  74 251  92  77]\n",
            " [ 74  83  78  83  88  48  70 310  97  97]\n",
            " [ 88  79  79  59 106  56  72 290  82  63]\n",
            " [ 90  69  96  73 128  68  53 276  77  79]]\n",
            "accuracy of model:0.0983\n"
          ],
          "name": "stdout"
        }
      ]
    },
    {
      "cell_type": "code",
      "metadata": {
        "id": "Obkr47dcX1QU",
        "colab_type": "code",
        "colab": {}
      },
      "source": [
        ""
      ],
      "execution_count": 0,
      "outputs": []
    }
  ]
}